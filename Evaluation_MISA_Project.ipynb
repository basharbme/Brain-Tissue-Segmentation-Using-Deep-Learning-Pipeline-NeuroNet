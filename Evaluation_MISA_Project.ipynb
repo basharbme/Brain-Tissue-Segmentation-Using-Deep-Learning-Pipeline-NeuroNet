{
 "cells": [
  {
   "cell_type": "markdown",
   "metadata": {
    "toc": true
   },
   "source": [
    "<h1>Table of Contents<span class=\"tocSkip\"></span></h1>\n",
    "<div class=\"toc\"><ul class=\"toc-item\"><li><span><a href=\"#Import-Libraries\" data-toc-modified-id=\"Import-Libraries-1\"><span class=\"toc-item-num\">1&nbsp;&nbsp;</span>Import Libraries</a></span></li><li><span><a href=\"#Functions\" data-toc-modified-id=\"Functions-2\"><span class=\"toc-item-num\">2&nbsp;&nbsp;</span>Functions</a></span><ul class=\"toc-item\"><li><span><a href=\"#Dice-Similarity\" data-toc-modified-id=\"Dice-Similarity-2.1\"><span class=\"toc-item-num\">2.1&nbsp;&nbsp;</span>Dice Similarity</a></span></li><li><span><a href=\"#HD\" data-toc-modified-id=\"HD-2.2\"><span class=\"toc-item-num\">2.2&nbsp;&nbsp;</span>HD</a></span></li><li><span><a href=\"#Visualization\" data-toc-modified-id=\"Visualization-2.3\"><span class=\"toc-item-num\">2.3&nbsp;&nbsp;</span>Visualization</a></span></li></ul></li><li><span><a href=\"#PreProcessing-Pipeline-1-Experiments\" data-toc-modified-id=\"PreProcessing-Pipeline-1-Experiments-3\"><span class=\"toc-item-num\">3&nbsp;&nbsp;</span>PreProcessing Pipeline-1 Experiments</a></span><ul class=\"toc-item\"><li><span><a href=\"#FineTuned-with-1000-steps\" data-toc-modified-id=\"FineTuned-with-1000-steps-3.1\"><span class=\"toc-item-num\">3.1&nbsp;&nbsp;</span>FineTuned with 1000 steps</a></span></li><li><span><a href=\"#Neuronet-FineTune-With-1000-step+5000-Steps,400-Samples-No-preprocessing\" data-toc-modified-id=\"Neuronet-FineTune-With-1000-step+5000-Steps,400-Samples-No-preprocessing-3.2\"><span class=\"toc-item-num\">3.2&nbsp;&nbsp;</span>Neuronet FineTune With 1000 step+5000 Steps,400 Samples No preprocessing</a></span></li></ul></li><li><span><a href=\"#Preprocessing:-Histogram-Matching-+-Normalization\" data-toc-modified-id=\"Preprocessing:-Histogram-Matching-+-Normalization-4\"><span class=\"toc-item-num\">4&nbsp;&nbsp;</span>Preprocessing: Histogram Matching + Normalization</a></span><ul class=\"toc-item\"><li><span><a href=\"#1000-steps-200-samples\" data-toc-modified-id=\"1000-steps-200-samples-4.1\"><span class=\"toc-item-num\">4.1&nbsp;&nbsp;</span>1000 steps 200 samples</a></span></li><li><span><a href=\"#1000,-50-samples\" data-toc-modified-id=\"1000,-50-samples-4.2\"><span class=\"toc-item-num\">4.2&nbsp;&nbsp;</span>1000, 50 samples</a></span></li><li><span><a href=\"#1000+2000-steps,-50-samples-preprocessing.\" data-toc-modified-id=\"1000+2000-steps,-50-samples-preprocessing.-4.3\"><span class=\"toc-item-num\">4.3&nbsp;&nbsp;</span>1000+2000 steps, 50 samples preprocessing.</a></span></li><li><span><a href=\"#FineTuned-1000+2000+2000-steps,-50-samples-preprocessing.\" data-toc-modified-id=\"FineTuned-1000+2000+2000-steps,-50-samples-preprocessing.-4.4\"><span class=\"toc-item-num\">4.4&nbsp;&nbsp;</span>FineTuned 1000+2000+2000 steps, 50 samples preprocessing.</a></span></li><li><span><a href=\"#FineTuned-1000+2000+2000-steps,-50-samples-preprocessing+1000-steps-100-samples\" data-toc-modified-id=\"FineTuned-1000+2000+2000-steps,-50-samples-preprocessing+1000-steps-100-samples-4.5\"><span class=\"toc-item-num\">4.5&nbsp;&nbsp;</span>FineTuned 1000+2000+2000 steps, 50 samples preprocessing+1000 steps 100 samples</a></span></li><li><span><a href=\"#FineTuned-20000-steps,-50-sample,-model-364\" data-toc-modified-id=\"FineTuned-20000-steps,-50-sample,-model-364-4.6\"><span class=\"toc-item-num\">4.6&nbsp;&nbsp;</span>FineTuned 20000 steps, 50 sample, model 364</a></span></li></ul></li><li><span><a href=\"#PreProcessing-Pipeline-2-Experiments\" data-toc-modified-id=\"PreProcessing-Pipeline-2-Experiments-5\"><span class=\"toc-item-num\">5&nbsp;&nbsp;</span>PreProcessing Pipeline-2 Experiments</a></span><ul class=\"toc-item\"><li><span><a href=\"#Pretrained-with-50-samples-2000step\" data-toc-modified-id=\"Pretrained-with-50-samples-2000step-5.1\"><span class=\"toc-item-num\">5.1&nbsp;&nbsp;</span>Pretrained with 50 samples 2000step</a></span></li><li><span><a href=\"#Pretrained-with-50-samples-2000step+2000step...model-Here-is-the-model-Name-in-the-folder-1546123949,-saved-in-the-destination-folder\" data-toc-modified-id=\"Pretrained-with-50-samples-2000step+2000step...model-Here-is-the-model-Name-in-the-folder-1546123949,-saved-in-the-destination-folder-5.2\"><span class=\"toc-item-num\">5.2&nbsp;&nbsp;</span>Pretrained with 50 samples 2000step+2000step...model Here is the model Name in the folder 1546123949, saved in the destination folder</a></span></li><li><span><a href=\"#samples-50-with-additional-training-**Best-Model-&gt;&gt;Folder--Folder-name-1546148883\" data-toc-modified-id=\"samples-50-with-additional-training-**Best-Model->>Folder--Folder-name-1546148883-5.3\"><span class=\"toc-item-num\">5.3&nbsp;&nbsp;</span>samples 50 with additional training <em>**</em>Best Model &gt;&gt;Folder  Folder name 1546148883</a></span></li></ul></li><li><span><a href=\"#Balanc-Sampling\" data-toc-modified-id=\"Balanc-Sampling-6\"><span class=\"toc-item-num\">6&nbsp;&nbsp;</span>Balanc Sampling</a></span><ul class=\"toc-item\"><li><span><a href=\"#Using-Pretrained-Model-For-Extraced_Balanced-Sample.50-samples.4000-steps\" data-toc-modified-id=\"Using-Pretrained-Model-For-Extraced_Balanced-Sample.50-samples.4000-steps-6.1\"><span class=\"toc-item-num\">6.1&nbsp;&nbsp;</span>Using Pretrained Model For Extraced_Balanced Sample.50 samples.4000 steps</a></span></li><li><span><a href=\"#training_fromScratech_4000step_classbalanced-training\" data-toc-modified-id=\"training_fromScratech_4000step_classbalanced-training-6.2\"><span class=\"toc-item-num\">6.2&nbsp;&nbsp;</span>training_fromScratech_4000step_classbalanced training</a></span></li><li><span><a href=\"#training_fromScratech_4000step_class-random-50-samplestraining\" data-toc-modified-id=\"training_fromScratech_4000step_class-random-50-samplestraining-6.3\"><span class=\"toc-item-num\">6.3&nbsp;&nbsp;</span>training_fromScratech_4000step_class random 50 samplestraining</a></span></li></ul></li><li><span><a href=\"#different-Patch-Size\" data-toc-modified-id=\"different-Patch-Size-7\"><span class=\"toc-item-num\">7&nbsp;&nbsp;</span>different Patch Size</a></span><ul class=\"toc-item\"><li><span><a href=\"#32-patch-size-200-samples-4000-steps\" data-toc-modified-id=\"32-patch-size-200-samples-4000-steps-7.1\"><span class=\"toc-item-num\">7.1&nbsp;&nbsp;</span>32 patch size 200 samples 4000 steps</a></span></li><li><span><a href=\"#64-patch-size-200-samples-4000-steps\" data-toc-modified-id=\"64-patch-size-200-samples-4000-steps-7.2\"><span class=\"toc-item-num\">7.2&nbsp;&nbsp;</span>64 patch size 200 samples 4000 steps</a></span></li><li><span><a href=\"#128-patch\" data-toc-modified-id=\"128-patch-7.3\"><span class=\"toc-item-num\">7.3&nbsp;&nbsp;</span>128 patch</a></span></li></ul></li><li><span><a href=\"#Ami\" data-toc-modified-id=\"Ami-8\"><span class=\"toc-item-num\">8&nbsp;&nbsp;</span>Ami</a></span></li></ul></div>"
   ]
  },
  {
   "cell_type": "markdown",
   "metadata": {
    "heading_collapsed": true
   },
   "source": [
    "# Import Libraries"
   ]
  },
  {
   "cell_type": "code",
   "execution_count": 3,
   "metadata": {
    "hidden": true
   },
   "outputs": [],
   "source": [
    "import os\n",
    "import numpy as np\n",
    "import nibabel as nib\n",
    "import matplotlib.pyplot as plt\n",
    "from sklearn.cluster import KMeans\n",
    "from numpy.linalg import inv, det, norm\n",
    "from math import sqrt, pi\n",
    "from functools import partial\n",
    "from scipy.spatial.distance import dice\n",
    "import time\n",
    "import operator\n",
    "import matplotlib.pyplot as plt\n",
    "import SimpleITK as sitk\n",
    "import pandas as pd\n",
    "import seaborn as sns\n",
    "%matplotlib inline\n",
    "from scipy.ndimage import label\n",
    "from scipy.ndimage import labeled_comprehension as lc\n",
    "from scipy.ndimage.morphology import binary_erosion as imerode\n",
    "from sklearn.neighbors import NearestNeighbors"
   ]
  },
  {
   "cell_type": "markdown",
   "metadata": {
    "heading_collapsed": true
   },
   "source": [
    "# Functions\n"
   ]
  },
  {
   "cell_type": "markdown",
   "metadata": {
    "heading_collapsed": true,
    "hidden": true
   },
   "source": [
    "## Dice Similarity"
   ]
  },
  {
   "cell_type": "code",
   "execution_count": 5,
   "metadata": {
    "hidden": true
   },
   "outputs": [],
   "source": [
    "def dice_similarity(Seg_img, GT_img,state):\n",
    "    \"\"\"   \n",
    "    Inputs:\n",
    "        Seg_img (numpy.ndarray): Segmented Image.\n",
    "        GT_img (numpy.ndarray): Ground Truth Image.\n",
    "        State: \"nifti\" if the images are nifti file\n",
    "               \"arr\"   if the images are an ndarray\n",
    "    output:\n",
    "        Dice Similarity Coefficient: dice_CSF, dice_GM, dice_WM.\"\"\"\n",
    "    \n",
    "    if (state==\"nifti\"):\n",
    "       segmented_data = Seg_img.get_data().copy()\n",
    "       groundtruth_data = GT_img.get_data().copy()\n",
    "    elif (state==\"arr\"):\n",
    "       segmented_data = Seg_img.copy()\n",
    "       groundtruth_data = GT_img.copy()\n",
    "    \n",
    "    #Calculte DICE\n",
    "    def dice_coefficient(SI,GT):\n",
    "        #   2 * TP / (FN + (2 * TP) + FP)\n",
    "        intersection = np.logical_and(SI, GT)\n",
    "        return 2. * intersection.sum() / (SI.sum() + GT.sum())\n",
    "    \n",
    "    #Dice  for CSF\n",
    "    Seg_CSF = (segmented_data == 1) * 1\n",
    "    GT_CSF = (groundtruth_data == 1) * 1\n",
    "    dice_CSF = dice_coefficient(Seg_CSF, GT_CSF)\n",
    "    #Dice  for GM\n",
    "    Seg_GM = (segmented_data == 2) * 1\n",
    "    GT_GM = (groundtruth_data == 2) * 1\n",
    "    dice_GM = dice_coefficient(Seg_GM, GT_GM)\n",
    "    #Dice  for WM\n",
    "    Seg_WM = (segmented_data == 3) * 1\n",
    "    GT_WM = (groundtruth_data == 3) * 1\n",
    "    dice_WM = dice_coefficient(Seg_WM, GT_WM)\n",
    "    \n",
    "    return dice_CSF, dice_GM, dice_WM"
   ]
  },
  {
   "cell_type": "markdown",
   "metadata": {
    "heading_collapsed": true,
    "hidden": true
   },
   "source": [
    "## HD"
   ]
  },
  {
   "cell_type": "code",
   "execution_count": 6,
   "metadata": {
    "hidden": true
   },
   "outputs": [],
   "source": [
    "def Haursdoff_distance(Seg_img, GT_img,state):\n",
    "    \"\"\"   \n",
    "    Inputs:\n",
    "        Seg_img (numpy.ndarray): Segmented Image.\n",
    "        GT_img (numpy.ndarray): Ground Truth Image.\n",
    "        State: \"nifti\" if the images are nifti file\n",
    "               \"arr\"   if the images are an ndarray\n",
    "    output:\n",
    "        Dice Similarity Coefficient: dice_CSF, dice_GM, dice_WM.\"\"\"\n",
    "    \n",
    "    if (state==\"nifti\"):\n",
    "       segmented_data = Seg_img.get_data().copy()\n",
    "       groundtruth_data = GT_img.get_data().copy()\n",
    "    elif (state==\"arr\"):\n",
    "       segmented_data = Seg_img.copy()\n",
    "       groundtruth_data = GT_img.copy()\n",
    "    \n",
    "    ###ecludian_distance\n",
    "    def eucl_distance(a, b):\n",
    "        \"\"\"\n",
    "        Euclidian distance between Region a and b\n",
    "        Inputs:\n",
    "        - a: 3D np.ndarray\n",
    "        - b: 3D np.ndarray\n",
    "        Output:\n",
    "        - (float) Euclidian distances between A and B\n",
    "        \"\"\"\n",
    "        nbrs_a = NearestNeighbors(n_neighbors=1,\n",
    "                                  algorithm='kd_tree').fit(a) if a.size > 0 else None\n",
    "        nbrs_b = NearestNeighbors(n_neighbors=1,\n",
    "                                  algorithm='kd_tree').fit(b) if b.size > 0 else None\n",
    "        distances_a, _ = nbrs_a.kneighbors(b) if nbrs_a and b.size > 0 else ([np.inf], None)\n",
    "        distances_b, _ = nbrs_b.kneighbors(a) if nbrs_b and a.size > 0 else ([np.inf], None)\n",
    "\n",
    "        return [distances_a, distances_b]\n",
    "    \n",
    "    \n",
    "    ####as logical\n",
    "    def as_logical(mask):\n",
    "        \"\"\"\n",
    "        convert to Boolean\n",
    "        Inputs:\n",
    "        - mask: 3D np.ndarray, input MRI mask\n",
    "        Output:\n",
    "        - Same mask binarized\n",
    "        \"\"\"\n",
    "        return np.array(mask).astype(dtype=np.bool)\n",
    "    \n",
    "    ####Surface Distance\n",
    "    def surface_distance(gt, mask, spacing=list((1, 1, 1))):\n",
    "        \"\"\"\n",
    "        Compute the surface distance between the input mask and a\n",
    "        ground truth mask\n",
    "        Inputs:\n",
    "        - gt: 3D np.ndarray, reference image (ground truth)\n",
    "        - mask: 3D np.ndarray, input MRI mask\n",
    "        - spacing: sets the input resolution (def: (1, 1, 1))\n",
    "        Output:\n",
    "        - (float) Euclidian distance between gt and mask\n",
    "        \"\"\"\n",
    "        a = as_logical(gt)\n",
    "        b = as_logical(mask)\n",
    "        a_bound = np.stack(np.where(\n",
    "            np.logical_and(a, np.logical_not(imerode(a)))), axis=1) * spacing\n",
    "        b_bound = np.stack(np.where(\n",
    "            np.logical_and(b, np.logical_not(imerode(b)))), axis=1) * spacing\n",
    "        return eucl_distance(a_bound, b_bound)\n",
    "    \n",
    "    def HD(gt, mask, spacing=(1, 1, 1)):\n",
    "        \"\"\"\n",
    "        Compute the Haursdoff distance between an input mask and a\n",
    "        groud truth mask\n",
    "        Inputs:\n",
    "        - gt: 3D np.ndarray, reference image (ground truth)\n",
    "        - mask: 3D np.ndarray, input MRI mask\n",
    "        - spacing: sets the input resolution (def: (1, 1, 1))\n",
    "        Output:\n",
    "        - (float) Haursdoff distance betwwen Gt and mask\n",
    "        - spacing: sets the input resolution\n",
    "        \"\"\"\n",
    "        distances = surface_distance(gt, mask, spacing)\n",
    "        return np.max([np.max(distances[0]), np.max(distances[1])])\n",
    "    \n",
    "    \n",
    "    #Dice  for CSF\n",
    "    Seg_CSF = (segmented_data == 1) * 1\n",
    "    GT_CSF = (groundtruth_data == 1) * 1\n",
    "    HD_CSF = HD(Seg_CSF, GT_CSF)\n",
    "    #Dice  for GM\n",
    "    Seg_GM = (segmented_data == 2) * 1\n",
    "    GT_GM = (groundtruth_data == 2) * 1\n",
    "    HD_GM = HD(Seg_GM, GT_GM)\n",
    "    #Dice  for WM\n",
    "    Seg_WM = (segmented_data == 3) * 1\n",
    "    GT_WM = (groundtruth_data == 3) * 1\n",
    "    HD_WM = HD(Seg_WM, GT_WM)\n",
    "    \n",
    "    return HD_CSF, HD_GM, HD_WM"
   ]
  },
  {
   "cell_type": "markdown",
   "metadata": {
    "heading_collapsed": true,
    "hidden": true
   },
   "source": [
    "## Visualization "
   ]
  },
  {
   "cell_type": "code",
   "execution_count": 45,
   "metadata": {
    "hidden": true
   },
   "outputs": [],
   "source": [
    "def visualize_dices(groudtruth_path, Segmented_data_path):\n",
    "###\n",
    "#calculates dices and visualize as box plots\n",
    "#This function takes two paths and shows the box plots for three regions (CSF, White matter, Gray matter)\n",
    "#Parameters:\n",
    "# groundtruth_path: string\n",
    "#    the absolute path where ground truth images are located\n",
    "#Segmented_data_path: string\n",
    "#    the absolute path where the segmented images are located\n",
    "#Returns:\n",
    "# average_dices: a float array (number of regions X 1)\n",
    "#     the average dices for each region\n",
    "\n",
    "####Loading The Folder\n",
    "\n",
    "##Segmented_data_path =\"H:/MISA_results/Neuronet_Pretrained_Plus_TRaining/val/\"\n",
    "    Image_list=os.listdir(Segmented_data_path)\n",
    "    GT_list=os.listdir(groudtruth_path)\n",
    "\n",
    "    CSF=0\n",
    "    GM=0\n",
    "    WM=0\n",
    "\n",
    "    CSF_List=[]\n",
    "    GM_List=[]\n",
    "    WM_List=[]\n",
    "\n",
    "\n",
    "    for i in range(0,5):\n",
    "        print(\"Print the Dice for Validation Image: \",Image_list[i])\n",
    "\n",
    "        #Segmentation\n",
    "        prediction = sitk.ReadImage(Segmented_data_path+Image_list[i],sitk.sitkInt8) \n",
    "        prediction_img=sitk.GetArrayFromImage(prediction)\n",
    "\n",
    "        #Groud Truth\n",
    "        GT = sitk.ReadImage(groudtruth_path + GT_list[i],sitk.sitkInt8)\n",
    "        GT_img=sitk.GetArrayFromImage(GT)\n",
    "\n",
    "        ###CALCLATING THE Dice\n",
    "        dice_CSF, dice_GM, dice_WM = dice_similarity(prediction_img,GT_img,\"arr\")\n",
    "        print(\"CSF DICE = {}\".format(dice_CSF), \"GM DICE = {}\".format(dice_GM), \"WM DICE = {}\".format(dice_WM))\n",
    "\n",
    "        ###\n",
    "        CSF_List.append(dice_CSF)\n",
    "        GM_List.append(dice_GM)\n",
    "        WM_List.append(dice_WM)\n",
    "\n",
    "        ####\n",
    "\n",
    "    df=pd.DataFrame(list(zip(CSF_List,GM_List,WM_List)),\n",
    "    columns=['CSF','GM','WM'])\n",
    "    \n",
    "    Average_CSF=df['CSF'].mean()\n",
    "    Average_GM=df['GM'].mean()\n",
    "    Average_WM=df['WM'].mean()\n",
    "    \n",
    "    Std_CSF=df['CSF'].std()\n",
    "    Std_GM=df['GM'].std()\n",
    "    Std_WM=df['WM'].std()\n",
    "    \n",
    "    #print(\"Avg_CSF DICE = {} ± {}\".format(Average_CSF,Std_CSF), \"Avg_GM DICE = {}\".format(Average_GM), \"Avg_WM DICE = {}\".format(Average_WM))\n",
    "    \n",
    "    \n",
    "    print(\"###Printing Avg ± Standard Daviation###\")\n",
    "    print(\"Avg CSF DICE = {} ± {}\".format(Average_CSF,Std_CSF))\n",
    "    print(\"Avg GM DICE = {} ± {}\".format(Average_GM,Std_GM))\n",
    "    print(\"Avg WM DICE = {} ± {}\".format(Average_WM,Std_WM))\n",
    "\n",
    "    #boxplot = df.boxplot(column=['CSF','GM','WM'])\n",
    "\n",
    "    boxplot=sns.boxplot(data=df)\n",
    "    \n",
    "    boxplot.set(xlabel='Tissue Type', ylabel='DSC',title='DSC Boxplot')\n",
    "    \n",
    "    plt.savefig('foo.png', bbox_inches='tight')\n",
    "    plt.show()\n",
    "    \n",
    "\n",
    "    return np.array([Average_CSF, Average_GM, Average_WM])"
   ]
  },
  {
   "cell_type": "markdown",
   "metadata": {
    "heading_collapsed": true
   },
   "source": [
    "# PreProcessing Pipeline-1 Experiments"
   ]
  },
  {
   "cell_type": "markdown",
   "metadata": {
    "hidden": true
   },
   "source": [
    "## FineTuned with 1000 steps"
   ]
  },
  {
   "cell_type": "markdown",
   "metadata": {
    "hidden": true
   },
   "source": [
    "Here We Used the Pretrained Model Of Neuronet and We trained it for 1000 step more (Pretrained Model Was tranined with 100000 step already on Biobank data). No Preprocessing is benn used so far.\n",
    "\n",
    "Neuronet FineTuned with 1000 steps, It's A 3D rasidual encoder FCN decoder Model\n",
    "\n",
    "* Patch Size: 128x128X128\n",
    "* Number of Patches: 200\n",
    "* Preprocessing: PreProcessing Pipeline-1"
   ]
  },
  {
   "cell_type": "code",
   "execution_count": 47,
   "metadata": {
    "hidden": true,
    "scrolled": true
   },
   "outputs": [
    {
     "name": "stdout",
     "output_type": "stream",
     "text": [
      "Print the Dice for Validation Image:  IBSR_11_seg.nii.gz\n",
      "CSF DICE = 0.8497201827796889 GM DICE = 0.9052246545838913 WM DICE = 0.9154533696918394\n",
      "Print the Dice for Validation Image:  IBSR_12_seg.nii.gz\n",
      "CSF DICE = 0.8428270395022912 GM DICE = 0.8960637987780202 WM DICE = 0.8879498261176352\n",
      "Print the Dice for Validation Image:  IBSR_13_seg.nii.gz\n",
      "CSF DICE = 0.2755500078015291 GM DICE = 0.9014070842127316 WM DICE = 0.8737110823519539\n",
      "Print the Dice for Validation Image:  IBSR_14_seg.nii.gz\n",
      "CSF DICE = 0.1610079575596817 GM DICE = 0.9278953098798151 WM DICE = 0.9327289562652081\n",
      "Print the Dice for Validation Image:  IBSR_17_seg.nii.gz\n",
      "CSF DICE = 0.0 GM DICE = 0.8913491665565545 WM DICE = 0.7696295521685708\n",
      "###Printing Avg ± Standard Daviation###\n",
      "Avg CSF DICE = 0.42582103752863826 ± 0.39611090515361924\n",
      "Avg GM DICE = 0.9043880028022026 ± 0.014155237291891876\n",
      "Avg WM DICE = 0.8758945573190415 ± 0.06371302246849947\n"
     ]
    },
    {
     "data": {
      "image/png": "[encoded data removed]",
      "text/plain": [
       "<Figure size 432x288 with 1 Axes>"
      ]
     },
     "metadata": {},
     "output_type": "display_data"
    },
    {
     "data": {
      "text/plain": [
       "array([0.42582104, 0.904388  , 0.87589456])"
      ]
     },
     "execution_count": 47,
     "metadata": {},
     "output_type": "execute_result"
    }
   ],
   "source": [
    "####Loading The Folder\n",
    "GT_data_path =\"H:/MISA_results/val_gt/\"    \n",
    "Segmented_data_path =\"H:/MISA_results/Neuronet_Pretrained_Plus_TRaining/FineTune_1000_Steps_No_Preprocessing/val/\"\n",
    "\n",
    "visualize_dices(Segmented_data_path,GT_data_path)"
   ]
  },
  {
   "cell_type": "markdown",
   "metadata": {
    "heading_collapsed": true,
    "hidden": true
   },
   "source": [
    "## Neuronet FineTune With 1000 step+5000 Steps,400 Samples No preprocessing "
   ]
  },
  {
   "cell_type": "markdown",
   "metadata": {
    "hidden": true
   },
   "source": [
    "Here We Used the Pretrained Model Of Neuronet and We trained it for 1000 step more (Pretrained Model Was tranined with 100000 step already on Biobank data). No Preprocessing is benn used so far.\n",
    "\n",
    "Neuronet FineTuned with 1000 steps, It's A 3D rasidual Unet Model\n",
    "\n",
    "Patch Size: 128x128X128\n",
    "Number of Patches: 400\n",
    "Preprocessing:pipeline-1"
   ]
  },
  {
   "cell_type": "code",
   "execution_count": 48,
   "metadata": {
    "hidden": true
   },
   "outputs": [
    {
     "name": "stdout",
     "output_type": "stream",
     "text": [
      "Print the Dice for Validation Image:  IBSR_11_seg.nii.gz\n",
      "CSF DICE = 0.6884880340859316 GM DICE = 0.8585491219855336 WM DICE = 0.8959564349097198\n",
      "Print the Dice for Validation Image:  IBSR_12_seg.nii.gz\n",
      "CSF DICE = 0.6587600781486476 GM DICE = 0.8329452000855018 WM DICE = 0.8568883973309217\n",
      "Print the Dice for Validation Image:  IBSR_13_seg.nii.gz\n",
      "CSF DICE = 0.8528349149766367 GM DICE = 0.9089110150735037 WM DICE = 0.8717713625430956\n",
      "Print the Dice for Validation Image:  IBSR_14_seg.nii.gz\n",
      "CSF DICE = 0.9104515939689644 GM DICE = 0.943800253484689 WM DICE = 0.9383074225998761\n",
      "Print the Dice for Validation Image:  IBSR_17_seg.nii.gz\n",
      "CSF DICE = 0.8804566674779299 GM DICE = 0.9232974028364777 WM DICE = 0.8725968185244968\n",
      "###Printing Avg ± Standard Daviation###\n",
      "Avg CSF DICE = 0.798198257731622 ± 0.11600836271915461\n",
      "Avg GM DICE = 0.8935005986931411 ± 0.04621673876122674\n",
      "Avg WM DICE = 0.887104087181622 ± 0.03185391192670842\n"
     ]
    },
    {
     "data": {
      "image/png": "[encoded data removed]",
      "text/plain": [
       "<Figure size 432x288 with 1 Axes>"
      ]
     },
     "metadata": {},
     "output_type": "display_data"
    },
    {
     "data": {
      "text/plain": [
       "array([0.79819826, 0.8935006 , 0.88710409])"
      ]
     },
     "execution_count": 48,
     "metadata": {},
     "output_type": "execute_result"
    }
   ],
   "source": [
    "###Loading The Folder\n",
    "GT_data_path =\"H:/MISA_results/val_gt/\"    \n",
    "Segmented_data_path =\"H:/MISA_results/Neuronet_Pretrained_Plus_TRaining/FineTune_1000_StepsPlus4000Steps_No_Preprocessing/val/\"\n",
    "\n",
    "visualize_dices(Segmented_data_path,GT_data_path)"
   ]
  },
  {
   "cell_type": "markdown",
   "metadata": {
    "heading_collapsed": true
   },
   "source": [
    "# Preprocessing: Histogram Matching + Normalization"
   ]
  },
  {
   "cell_type": "markdown",
   "metadata": {
    "heading_collapsed": true,
    "hidden": true
   },
   "source": [
    "## 1000 steps 200 samples "
   ]
  },
  {
   "cell_type": "markdown",
   "metadata": {
    "hidden": true
   },
   "source": [
    "Here We Used the Pretrained Model Of Neuronet and We trained it for 1000 step more (Pretrained Model Was tranined with 100000 step already on Biobank data). No Preprocessing is benn used so far.\n",
    "\n",
    "Neuronet FineTuned with 1000 steps, It's A 3D rasidual Unet Model\n",
    "\n",
    "* Patch Size: 128x128X128\n",
    "* Number of Patches: 200\n",
    "* Preprocessing: Histogram Matching + Normalization"
   ]
  },
  {
   "cell_type": "code",
   "execution_count": 49,
   "metadata": {
    "hidden": true
   },
   "outputs": [
    {
     "name": "stdout",
     "output_type": "stream",
     "text": [
      "Print the Dice for Validation Image:  IBSR_11_seg.nii.gz\n",
      "CSF DICE = 0.8436647975718916 GM DICE = 0.9040520726221559 WM DICE = 0.9136144288241513\n",
      "Print the Dice for Validation Image:  IBSR_12_seg.nii.gz\n",
      "CSF DICE = 0.7818147801683817 GM DICE = 0.839099824399679 WM DICE = 0.8268842302742087\n",
      "Print the Dice for Validation Image:  IBSR_13_seg.nii.gz\n",
      "CSF DICE = 0.7070498479894453 GM DICE = 0.8635869091176187 WM DICE = 0.8113461016127966\n",
      "Print the Dice for Validation Image:  IBSR_14_seg.nii.gz\n",
      "CSF DICE = 0.44423356034386513 GM DICE = 0.9289308882356134 WM DICE = 0.9196696385016969\n",
      "Print the Dice for Validation Image:  IBSR_17_seg.nii.gz\n",
      "CSF DICE = 0.0 GM DICE = 0.8580801387052231 WM DICE = 0.8076628278261249\n",
      "###Printing Avg ± Standard Daviation###\n",
      "Avg CSF DICE = 0.5553525972147167 ± 0.3457546271070652\n",
      "Avg GM DICE = 0.8787499666160581 ± 0.0367001884847863\n",
      "Avg WM DICE = 0.8558354454077957 ± 0.05601627171248487\n"
     ]
    },
    {
     "data": {
      "image/png": "[encoded data removed]",
      "text/plain": [
       "<Figure size 432x288 with 1 Axes>"
      ]
     },
     "metadata": {},
     "output_type": "display_data"
    },
    {
     "data": {
      "text/plain": [
       "array([0.5553526 , 0.87874997, 0.85583545])"
      ]
     },
     "execution_count": 49,
     "metadata": {},
     "output_type": "execute_result"
    }
   ],
   "source": [
    "####Loading The Folder\n",
    "GT_data_path =\"H:/MISA_results/val_gt/\"    \n",
    "Segmented_data_path =\"H:/MISA_results/Neuronet_Pretrained_Plus_TRaining/FineTune_1000_Steps_Preprocessing/val/\"\n",
    "\n",
    "visualize_dices(Segmented_data_path,GT_data_path)"
   ]
  },
  {
   "cell_type": "markdown",
   "metadata": {
    "heading_collapsed": true,
    "hidden": true
   },
   "source": [
    "## 1000, 50 samples"
   ]
  },
  {
   "cell_type": "code",
   "execution_count": 50,
   "metadata": {
    "hidden": true
   },
   "outputs": [
    {
     "name": "stdout",
     "output_type": "stream",
     "text": [
      "Print the Dice for Validation Image:  IBSR_11_seg.nii.gz\n",
      "CSF DICE = 0.8260207853198244 GM DICE = 0.8974430091650317 WM DICE = 0.907335441733089\n",
      "Print the Dice for Validation Image:  IBSR_12_seg.nii.gz\n",
      "CSF DICE = 0.7588652482269503 GM DICE = 0.8290838336536573 WM DICE = 0.813474499115328\n",
      "Print the Dice for Validation Image:  IBSR_13_seg.nii.gz\n",
      "CSF DICE = 0.8421460558043403 GM DICE = 0.8608663945342797 WM DICE = 0.8115309759192177\n",
      "Print the Dice for Validation Image:  IBSR_14_seg.nii.gz\n",
      "CSF DICE = 0.8884640333208152 GM DICE = 0.9299760180998886 WM DICE = 0.9232044553375508\n",
      "Print the Dice for Validation Image:  IBSR_17_seg.nii.gz\n",
      "CSF DICE = 0.0796415742922251 GM DICE = 0.8844241938958416 WM DICE = 0.8774308833445719\n",
      "###Printing Avg ± Standard Daviation###\n",
      "Avg CSF DICE = 0.6790275393928311 ± 0.3382735227019543\n",
      "Avg GM DICE = 0.8803586898697399 ± 0.038010991853978195\n",
      "Avg WM DICE = 0.8665952510899515 ± 0.05204724958143977\n"
     ]
    },
    {
     "data": {
      "image/png": "[encoded data removed]",
      "text/plain": [
       "<Figure size 432x288 with 1 Axes>"
      ]
     },
     "metadata": {},
     "output_type": "display_data"
    },
    {
     "data": {
      "text/plain": [
       "array([0.67902754, 0.88035869, 0.86659525])"
      ]
     },
     "execution_count": 50,
     "metadata": {},
     "output_type": "execute_result"
    }
   ],
   "source": [
    "GT_data_path =\"H:/MISA_results/val_gt/\"    \n",
    "Segmented_data_path =\"H:/MISA_results/Neuronet_Pretrained_Plus_TRaining/FineTuned_1000steps_50 samplespreprocessing/val/\"\n",
    "\n",
    "visualize_dices(Segmented_data_path,GT_data_path)"
   ]
  },
  {
   "cell_type": "markdown",
   "metadata": {
    "heading_collapsed": true,
    "hidden": true
   },
   "source": [
    "## 1000+2000 steps, 50 samples preprocessing."
   ]
  },
  {
   "cell_type": "code",
   "execution_count": 51,
   "metadata": {
    "hidden": true
   },
   "outputs": [
    {
     "name": "stdout",
     "output_type": "stream",
     "text": [
      "Print the Dice for Validation Image:  IBSR_11_seg.nii.gz\n",
      "CSF DICE = 0.7942126129071811 GM DICE = 0.9157964237801487 WM DICE = 0.9257583438327375\n",
      "Print the Dice for Validation Image:  IBSR_12_seg.nii.gz\n",
      "CSF DICE = 0.7111843481899979 GM DICE = 0.8599143506158184 WM DICE = 0.8432936119517357\n",
      "Print the Dice for Validation Image:  IBSR_13_seg.nii.gz\n",
      "CSF DICE = 0.8019398044800247 GM DICE = 0.8884664838701412 WM DICE = 0.8578094088663821\n",
      "Print the Dice for Validation Image:  IBSR_14_seg.nii.gz\n",
      "CSF DICE = 0.8633253073121278 GM DICE = 0.941555680766645 WM DICE = 0.939839698765686\n",
      "Print the Dice for Validation Image:  IBSR_17_seg.nii.gz\n",
      "CSF DICE = 0.601391982182628 GM DICE = 0.8605809553131343 WM DICE = 0.7867645921917279\n",
      "###Printing Avg ± Standard Daviation###\n",
      "Avg CSF DICE = 0.7544108110143919 ± 0.10122851034035803\n",
      "Avg GM DICE = 0.8932627788691775 ± 0.03550772180205214\n",
      "Avg WM DICE = 0.8706931311216538 ± 0.0627975896525364\n"
     ]
    },
    {
     "data": {
      "image/png": "[encoded data removed]",
      "text/plain": [
       "<Figure size 432x288 with 1 Axes>"
      ]
     },
     "metadata": {},
     "output_type": "display_data"
    },
    {
     "data": {
      "text/plain": [
       "array([0.75441081, 0.89326278, 0.87069313])"
      ]
     },
     "execution_count": 51,
     "metadata": {},
     "output_type": "execute_result"
    }
   ],
   "source": [
    "GT_data_path =\"H:/MISA_results/val_gt/\"    \n",
    "Segmented_data_path =\"H:/MISA_results/Neuronet_Pretrained_Plus_TRaining/FineTuned1000_2000steps50samplespreprocessing/val/\"\n",
    "\n",
    "visualize_dices(Segmented_data_path,GT_data_path)"
   ]
  },
  {
   "cell_type": "markdown",
   "metadata": {
    "heading_collapsed": true,
    "hidden": true
   },
   "source": [
    "## FineTuned 1000+2000+2000 steps, 50 samples preprocessing. "
   ]
  },
  {
   "cell_type": "code",
   "execution_count": 52,
   "metadata": {
    "hidden": true
   },
   "outputs": [
    {
     "name": "stdout",
     "output_type": "stream",
     "text": [
      "Print the Dice for Validation Image:  IBSR_11_seg.nii.gz\n",
      "CSF DICE = 0.8358074673864148 GM DICE = 0.9270294499668131 WM DICE = 0.9337678418352768\n",
      "Print the Dice for Validation Image:  IBSR_12_seg.nii.gz\n",
      "CSF DICE = 0.7711306256860593 GM DICE = 0.8777429048668686 WM DICE = 0.8628300112393055\n",
      "Print the Dice for Validation Image:  IBSR_13_seg.nii.gz\n",
      "CSF DICE = 0.8398905094578584 GM DICE = 0.9065874706081436 WM DICE = 0.8769575086716996\n",
      "Print the Dice for Validation Image:  IBSR_14_seg.nii.gz\n",
      "CSF DICE = 0.8829140803658935 GM DICE = 0.9468597571086033 WM DICE = 0.9383978222180333\n",
      "Print the Dice for Validation Image:  IBSR_17_seg.nii.gz\n",
      "CSF DICE = 0.5557581546120228 GM DICE = 0.8554168159638911 WM DICE = 0.7280339033537783\n",
      "###Printing Avg ± Standard Daviation###\n",
      "Avg CSF DICE = 0.7771001675016497 ± 0.13001315352484433\n",
      "Avg GM DICE = 0.902727279702864 ± 0.03679562161614292\n",
      "Avg WM DICE = 0.8679974174636188 ± 0.0851157099411341\n"
     ]
    },
    {
     "data": {
      "image/png": "[encoded data removed]",
      "text/plain": [
       "<Figure size 432x288 with 1 Axes>"
      ]
     },
     "metadata": {},
     "output_type": "display_data"
    },
    {
     "data": {
      "text/plain": [
       "array([0.77710017, 0.90272728, 0.86799742])"
      ]
     },
     "execution_count": 52,
     "metadata": {},
     "output_type": "execute_result"
    }
   ],
   "source": [
    "GT_data_path =\"H:/MISA_results/val_gt/\"    \n",
    "Segmented_data_path =\"H:/MISA_results/Neuronet_Pretrained_Plus_TRaining/FineTuned1000_2000_2000steps50samplespreprocessing/val/\"\n",
    "\n",
    "visualize_dices(Segmented_data_path,GT_data_path)"
   ]
  },
  {
   "cell_type": "markdown",
   "metadata": {
    "heading_collapsed": true,
    "hidden": true
   },
   "source": [
    "## FineTuned 1000+2000+2000 steps, 50 samples preprocessing+1000 steps 100 samples"
   ]
  },
  {
   "cell_type": "code",
   "execution_count": 53,
   "metadata": {
    "hidden": true
   },
   "outputs": [
    {
     "name": "stdout",
     "output_type": "stream",
     "text": [
      "Print the Dice for Validation Image:  IBSR_11_seg.nii.gz\n",
      "CSF DICE = 0.8836188385742234 GM DICE = 0.9389339784990169 WM DICE = 0.9463049027145953\n",
      "Print the Dice for Validation Image:  IBSR_12_seg.nii.gz\n",
      "CSF DICE = 0.8721128723218952 GM DICE = 0.8906359748187679 WM DICE = 0.8777939672009176\n",
      "Print the Dice for Validation Image:  IBSR_13_seg.nii.gz\n",
      "CSF DICE = 0.8822541857616044 GM DICE = 0.916799443974533 WM DICE = 0.8846064576026408\n",
      "Print the Dice for Validation Image:  IBSR_14_seg.nii.gz\n",
      "CSF DICE = 0.9094240475696606 GM DICE = 0.9481432827484801 WM DICE = 0.9352539840915045\n",
      "Print the Dice for Validation Image:  IBSR_17_seg.nii.gz\n",
      "CSF DICE = 0.0036154742297031294 GM DICE = 0.8299199998521767 WM DICE = 0.6436794631574361\n",
      "###Printing Avg ± Standard Daviation###\n",
      "Avg CSF DICE = 0.7102050836914173 ± 0.39523550817610686\n",
      "Avg GM DICE = 0.9048865359785949 ± 0.04742191448154177\n",
      "Avg WM DICE = 0.8575277549534188 ± 0.1232860657786611\n"
     ]
    },
    {
     "data": {
      "image/png": "[encoded data removed]",
      "text/plain": [
       "<Figure size 432x288 with 1 Axes>"
      ]
     },
     "metadata": {},
     "output_type": "display_data"
    },
    {
     "data": {
      "text/plain": [
       "array([0.71020508, 0.90488654, 0.85752775])"
      ]
     },
     "execution_count": 53,
     "metadata": {},
     "output_type": "execute_result"
    }
   ],
   "source": [
    "GT_data_path =\"H:/MISA_results/val_gt/\"    \n",
    "Segmented_data_path =\"H:/MISA_results/Neuronet_Pretrained_Plus_TRaining/60067/\"\n",
    "\n",
    "visualize_dices(Segmented_data_path,GT_data_path)"
   ]
  },
  {
   "cell_type": "markdown",
   "metadata": {
    "heading_collapsed": true,
    "hidden": true
   },
   "source": [
    "## FineTuned 20000 steps, 50 sample, model 364 "
   ]
  },
  {
   "cell_type": "code",
   "execution_count": 54,
   "metadata": {
    "hidden": true
   },
   "outputs": [
    {
     "name": "stdout",
     "output_type": "stream",
     "text": [
      "Print the Dice for Validation Image:  IBSR_11_seg.nii.gz\n",
      "CSF DICE = 0.8753492475859026 GM DICE = 0.921031658113626 WM DICE = 0.928391623658333\n",
      "Print the Dice for Validation Image:  IBSR_12_seg.nii.gz\n",
      "CSF DICE = 0.8767614471655492 GM DICE = 0.862074014207823 WM DICE = 0.8434345532339135\n",
      "Print the Dice for Validation Image:  IBSR_13_seg.nii.gz\n",
      "CSF DICE = 0.8943592502914537 GM DICE = 0.900456363923419 WM DICE = 0.8612796021287968\n",
      "Print the Dice for Validation Image:  IBSR_14_seg.nii.gz\n",
      "CSF DICE = 0.9075229850345614 GM DICE = 0.9527689325311053 WM DICE = 0.9476497981495483\n",
      "Print the Dice for Validation Image:  IBSR_17_seg.nii.gz\n",
      "CSF DICE = 0.4074488133644233 GM DICE = 0.8860524474934314 WM DICE = 0.7825393061918565\n",
      "###Printing Avg ± Standard Daviation###\n",
      "Avg CSF DICE = 0.792288348688378 ± 0.2155422090961872\n",
      "Avg GM DICE = 0.9044766832538809 ± 0.034495689245054216\n",
      "Avg WM DICE = 0.8726589766724896 ± 0.06677361631608975\n"
     ]
    },
    {
     "data": {
      "image/png": "[encoded data removed]",
      "text/plain": [
       "<Figure size 432x288 with 1 Axes>"
      ]
     },
     "metadata": {},
     "output_type": "display_data"
    },
    {
     "data": {
      "text/plain": [
       "array([0.79228835, 0.90447668, 0.87265898])"
      ]
     },
     "execution_count": 54,
     "metadata": {},
     "output_type": "execute_result"
    }
   ],
   "source": [
    "GT_data_path =\"H:/MISA_results/val_gt/\"    \n",
    "Segmented_data_path =\"H:/MISA_results/Neuronet_Pretrained_Plus_TRaining/Finetued_27000total/val/\"\n",
    "\n",
    "visualize_dices(Segmented_data_path,GT_data_path)"
   ]
  },
  {
   "cell_type": "markdown",
   "metadata": {
    "heading_collapsed": true
   },
   "source": [
    "# PreProcessing Pipeline-2 Experiments"
   ]
  },
  {
   "cell_type": "markdown",
   "metadata": {
    "heading_collapsed": true,
    "hidden": true
   },
   "source": [
    "## Pretrained with 50 samples 2000step"
   ]
  },
  {
   "cell_type": "code",
   "execution_count": 60,
   "metadata": {
    "hidden": true
   },
   "outputs": [
    {
     "name": "stdout",
     "output_type": "stream",
     "text": [
      "Print the Dice for Validation Image:  IBSR_11_seg.nii.gz\n",
      "CSF DICE = 0.8649492583918813 GM DICE = 0.9373020491150577 WM DICE = 0.9427661430133366\n",
      "Print the Dice for Validation Image:  IBSR_12_seg.nii.gz\n",
      "CSF DICE = 0.8878021517395557 GM DICE = 0.931658212299706 WM DICE = 0.9376831921844049\n",
      "Print the Dice for Validation Image:  IBSR_13_seg.nii.gz\n",
      "CSF DICE = 0.875902957612103 GM DICE = 0.9313647631649846 WM DICE = 0.9054247339083923\n",
      "Print the Dice for Validation Image:  IBSR_14_seg.nii.gz\n",
      "CSF DICE = 0.9053660074068237 GM DICE = 0.9462487590412707 WM DICE = 0.9362693799671344\n",
      "Print the Dice for Validation Image:  IBSR_17_seg.nii.gz\n",
      "CSF DICE = 0.9128559758344891 GM DICE = 0.9415902894441656 WM DICE = 0.927293624390279\n",
      "###Printing Avg ± Standard Daviation###\n",
      "Avg CSF DICE = 0.8893752701969706 ± 0.019922695440867028\n",
      "Avg GM DICE = 0.9376328146130367 ± 0.006422418800615006\n",
      "Avg WM DICE = 0.9298874146927094 ± 0.014769188958003908\n"
     ]
    },
    {
     "data": {
      "image/png": "[encoded data removed]",
      "text/plain": [
       "<Figure size 432x288 with 1 Axes>"
      ]
     },
     "metadata": {},
     "output_type": "display_data"
    },
    {
     "data": {
      "text/plain": [
       "array([0.88937527, 0.93763281, 0.92988741])"
      ]
     },
     "execution_count": 60,
     "metadata": {},
     "output_type": "execute_result"
    }
   ],
   "source": [
    "GT_data_path =\"H:/MISA_results/val_gt_pre/\"    \n",
    "Segmented_data_path =\"H:/MISA_results/nnet_finalData_results/FineTuned_2000steps_50Samples/val/\"\n",
    "\n",
    "visualize_dices(Segmented_data_path,GT_data_path)"
   ]
  },
  {
   "cell_type": "markdown",
   "metadata": {
    "heading_collapsed": true,
    "hidden": true
   },
   "source": [
    "## Pretrained with 50 samples 2000step+2000step...model Here is the model Name in the folder 1546123949, saved in the destination folder"
   ]
  },
  {
   "cell_type": "code",
   "execution_count": 61,
   "metadata": {
    "hidden": true
   },
   "outputs": [
    {
     "name": "stdout",
     "output_type": "stream",
     "text": [
      "Print the Dice for Validation Image:  IBSR_11_seg.nii.gz\n",
      "CSF DICE = 0.887657561323353 GM DICE = 0.9437249759410775 WM DICE = 0.951566447263359\n",
      "Print the Dice for Validation Image:  IBSR_12_seg.nii.gz\n",
      "CSF DICE = 0.8894814532641303 GM DICE = 0.930580265784616 WM DICE = 0.9346678880727448\n",
      "Print the Dice for Validation Image:  IBSR_13_seg.nii.gz\n",
      "CSF DICE = 0.881584613176403 GM DICE = 0.9340039539793288 WM DICE = 0.906592900419352\n",
      "Print the Dice for Validation Image:  IBSR_14_seg.nii.gz\n",
      "CSF DICE = 0.9130157718655408 GM DICE = 0.9500263177199377 WM DICE = 0.9411605106271999\n",
      "Print the Dice for Validation Image:  IBSR_17_seg.nii.gz\n",
      "CSF DICE = 0.9212611638356981 GM DICE = 0.9481097297434724 WM DICE = 0.9336152211160325\n",
      "###Printing Avg ± Standard Daviation###\n",
      "Avg CSF DICE = 0.8986001126930251 ± 0.017419465206538552\n",
      "Avg GM DICE = 0.9412890486336865 ± 0.008610254612456939\n",
      "Avg WM DICE = 0.9335205934997377 ± 0.016661685581199185\n"
     ]
    },
    {
     "data": {
      "image/png": "[encoded data removed]",
      "text/plain": [
       "<Figure size 432x288 with 1 Axes>"
      ]
     },
     "metadata": {},
     "output_type": "display_data"
    },
    {
     "data": {
      "text/plain": [
       "array([0.89860011, 0.94128905, 0.93352059])"
      ]
     },
     "execution_count": 61,
     "metadata": {},
     "output_type": "execute_result"
    }
   ],
   "source": [
    "GT_data_path =\"H:/MISA_results/val_gt_pre/\"    \n",
    "Segmented_data_path =\"H:/MISA_results/nnet_finalData_results/FineTuned_2000_and2000steps_50Samples/val/\"\n",
    "\n",
    "visualize_dices(Segmented_data_path,GT_data_path)"
   ]
  },
  {
   "cell_type": "markdown",
   "metadata": {
    "heading_collapsed": true,
    "hidden": true
   },
   "source": [
    "## samples 50 with additional training ****Best Model >>Folder  Folder name 1546148883"
   ]
  },
  {
   "cell_type": "code",
   "execution_count": 62,
   "metadata": {
    "hidden": true
   },
   "outputs": [
    {
     "name": "stdout",
     "output_type": "stream",
     "text": [
      "Print the Dice for Validation Image:  IBSR_11_seg.nii.gz\n",
      "CSF DICE = 0.8780283774653325 GM DICE = 0.9428314749509243 WM DICE = 0.9452840736535251\n",
      "Print the Dice for Validation Image:  IBSR_12_seg.nii.gz\n",
      "CSF DICE = 0.8887151049812787 GM DICE = 0.9350217644644564 WM DICE = 0.9387972048850052\n",
      "Print the Dice for Validation Image:  IBSR_13_seg.nii.gz\n",
      "CSF DICE = 0.8782430908065426 GM DICE = 0.9334339704019193 WM DICE = 0.9069717262282514\n",
      "Print the Dice for Validation Image:  IBSR_14_seg.nii.gz\n",
      "CSF DICE = 0.9078964725747303 GM DICE = 0.9497677791249732 WM DICE = 0.9386477656476515\n",
      "Print the Dice for Validation Image:  IBSR_17_seg.nii.gz\n",
      "CSF DICE = 0.9220750388514763 GM DICE = 0.9470593410774371 WM DICE = 0.9355325817044791\n",
      "###Printing Avg ± Standard Daviation###\n",
      "Avg CSF DICE = 0.894991616935872 ± 0.019414596730773614\n",
      "Avg GM DICE = 0.9416228660039421 ± 0.00721089729638467\n",
      "Avg WM DICE = 0.9330466704237825 ± 0.015002311670201258\n"
     ]
    },
    {
     "data": {
      "image/png": "[encoded data removed]",
      "text/plain": [
       "<Figure size 432x288 with 1 Axes>"
      ]
     },
     "metadata": {},
     "output_type": "display_data"
    },
    {
     "data": {
      "text/plain": [
       "array([0.89499162, 0.94162287, 0.93304667])"
      ]
     },
     "execution_count": 62,
     "metadata": {},
     "output_type": "execute_result"
    }
   ],
   "source": [
    "GT_data_path =\"H:/MISA_results/val_gt_pre/\"    \n",
    "Segmented_data_path =\"H:/MISA_results/nnet_finalData_results/FineTuned_2000_and2000plus4000steps_50Samples//val/\"\n",
    "\n",
    "visualize_dices(Segmented_data_path,GT_data_path)"
   ]
  },
  {
   "cell_type": "markdown",
   "metadata": {
    "heading_collapsed": true
   },
   "source": [
    "# Balanc Sampling\n"
   ]
  },
  {
   "cell_type": "markdown",
   "metadata": {
    "hidden": true
   },
   "source": [
    "## Using Pretrained Model For Extraced_Balanced Sample.50 samples.4000 steps"
   ]
  },
  {
   "cell_type": "code",
   "execution_count": 63,
   "metadata": {
    "hidden": true
   },
   "outputs": [
    {
     "name": "stdout",
     "output_type": "stream",
     "text": [
      "Print the Dice for Validation Image:  IBSR_11_seg.nii.gz\n",
      "CSF DICE = 0.8771414898707928 GM DICE = 0.9385358655547226 WM DICE = 0.9497688157868626\n",
      "Print the Dice for Validation Image:  IBSR_12_seg.nii.gz\n",
      "CSF DICE = 0.8855806630857567 GM DICE = 0.9244100815384995 WM DICE = 0.9297861375934038\n",
      "Print the Dice for Validation Image:  IBSR_13_seg.nii.gz\n",
      "CSF DICE = 0.8762862251610944 GM DICE = 0.9223402221807125 WM DICE = 0.8864924481480346\n",
      "Print the Dice for Validation Image:  IBSR_14_seg.nii.gz\n",
      "CSF DICE = 0.8949802361329992 GM DICE = 0.949175148181537 WM DICE = 0.94437823776144\n",
      "Print the Dice for Validation Image:  IBSR_17_seg.nii.gz\n",
      "CSF DICE = 0.9243908848594061 GM DICE = 0.9396759038369784 WM DICE = 0.9225687697322523\n",
      "###Printing Avg ± Standard Daviation###\n",
      "Avg CSF DICE = 0.8916758998220098 ± 0.019789087612387634\n",
      "Avg GM DICE = 0.9348274442584901 ± 0.011264642891782988\n",
      "Avg WM DICE = 0.9265988818043986 ± 0.02493931515905085\n"
     ]
    },
    {
     "data": {
      "image/png": "[encoded data removed]",
      "text/plain": [
       "<Figure size 432x288 with 1 Axes>"
      ]
     },
     "metadata": {},
     "output_type": "display_data"
    },
    {
     "data": {
      "text/plain": [
       "array([0.8916759 , 0.93482744, 0.92659888])"
      ]
     },
     "execution_count": 63,
     "metadata": {},
     "output_type": "execute_result"
    }
   ],
   "source": [
    "GT_data_path =\"H:/MISA_results/val_gt_pre/\"    \n",
    "Segmented_data_path =\"H:/MISA_results/nnet_finalData_results/FineTuned_4000_Steps_50samples_balanced_samples/val/\"\n",
    "\n",
    "visualize_dices(Segmented_data_path,GT_data_path)"
   ]
  },
  {
   "cell_type": "markdown",
   "metadata": {
    "hidden": true
   },
   "source": [
    "## training_fromScratech_4000step_classbalanced training"
   ]
  },
  {
   "cell_type": "code",
   "execution_count": 64,
   "metadata": {
    "hidden": true
   },
   "outputs": [
    {
     "name": "stdout",
     "output_type": "stream",
     "text": [
      "Print the Dice for Validation Image:  IBSR_11_seg.nii.gz\n",
      "CSF DICE = 0.8438862006245925 GM DICE = 0.9355752036253576 WM DICE = 0.9360343230461704\n",
      "Print the Dice for Validation Image:  IBSR_12_seg.nii.gz\n",
      "CSF DICE = 0.871569541951004 GM DICE = 0.9340009489151639 WM DICE = 0.9371753562401044\n",
      "Print the Dice for Validation Image:  IBSR_13_seg.nii.gz\n",
      "CSF DICE = 0.8706167757112402 GM DICE = 0.9367385823846297 WM DICE = 0.9166770281041449\n",
      "Print the Dice for Validation Image:  IBSR_14_seg.nii.gz\n",
      "CSF DICE = 0.9026184988754061 GM DICE = 0.9453581065519315 WM DICE = 0.9302700748199038\n",
      "Print the Dice for Validation Image:  IBSR_17_seg.nii.gz\n",
      "CSF DICE = 0.9097983592731733 GM DICE = 0.9360045013853625 WM DICE = 0.9074928944935405\n",
      "###Printing Avg ± Standard Daviation###\n",
      "Avg CSF DICE = 0.8796978752870832 ± 0.026750730533647685\n",
      "Avg GM DICE = 0.937535468572489 ± 0.004486313100777879\n",
      "Avg WM DICE = 0.9255299353407729 ± 0.012962790212128114\n"
     ]
    },
    {
     "data": {
      "image/png": "[encoded data removed]",
      "text/plain": [
       "<Figure size 432x288 with 1 Axes>"
      ]
     },
     "metadata": {},
     "output_type": "display_data"
    },
    {
     "data": {
      "text/plain": [
       "array([0.87969788, 0.93753547, 0.92552994])"
      ]
     },
     "execution_count": 64,
     "metadata": {},
     "output_type": "execute_result"
    }
   ],
   "source": [
    "GT_data_path =\"H:/MISA_results/val_gt_pre/\"    \n",
    "Segmented_data_path =\"H:/MISA_results/nnet_finalData_results/training_fromScratech_4000step_classbalancedtraining/val/\"\n",
    "\n",
    "visualize_dices(Segmented_data_path,GT_data_path)"
   ]
  },
  {
   "cell_type": "markdown",
   "metadata": {
    "hidden": true
   },
   "source": [
    "## training_fromScratech_4000step_class random 50 samplestraining"
   ]
  },
  {
   "cell_type": "code",
   "execution_count": 65,
   "metadata": {
    "hidden": true
   },
   "outputs": [
    {
     "name": "stdout",
     "output_type": "stream",
     "text": [
      "Print the Dice for Validation Image:  IBSR_11_seg.nii.gz\n",
      "CSF DICE = 0.8759024147373662 GM DICE = 0.9235291419300478 WM DICE = 0.9407176753998484\n",
      "Print the Dice for Validation Image:  IBSR_12_seg.nii.gz\n",
      "CSF DICE = 0.8745024374972047 GM DICE = 0.9179978836444639 WM DICE = 0.9329688671162409\n",
      "Print the Dice for Validation Image:  IBSR_13_seg.nii.gz\n",
      "CSF DICE = 0.8693974575395321 GM DICE = 0.9347193116340363 WM DICE = 0.915457483045702\n",
      "Print the Dice for Validation Image:  IBSR_14_seg.nii.gz\n",
      "CSF DICE = 0.8975435323383084 GM DICE = 0.9374110945594462 WM DICE = 0.9295850448522546\n",
      "Print the Dice for Validation Image:  IBSR_17_seg.nii.gz\n",
      "CSF DICE = 0.9164754895663185 GM DICE = 0.941242601502198 WM DICE = 0.9190548479203374\n",
      "###Printing Avg ± Standard Daviation###\n",
      "Avg CSF DICE = 0.886764266335746 ± 0.019804593379984296\n",
      "Avg GM DICE = 0.9309800066540384 ± 0.009807051664095108\n",
      "Avg WM DICE = 0.9275567836668767 ± 0.01031127476195157\n"
     ]
    },
    {
     "data": {
      "image/png": "[encoded data removed]",
      "text/plain": [
       "<Figure size 432x288 with 1 Axes>"
      ]
     },
     "metadata": {},
     "output_type": "display_data"
    },
    {
     "data": {
      "text/plain": [
       "array([0.88676427, 0.93098001, 0.92755678])"
      ]
     },
     "execution_count": 65,
     "metadata": {},
     "output_type": "execute_result"
    }
   ],
   "source": [
    "GT_data_path =\"H:/MISA_results/val_gt_pre/\"    \n",
    "Segmented_data_path =\"H:/MISA_results/nnet_finalData_results/tu/\"\n",
    "\n",
    "visualize_dices(Segmented_data_path,GT_data_path)"
   ]
  },
  {
   "cell_type": "markdown",
   "metadata": {},
   "source": [
    "# different Patch Size"
   ]
  },
  {
   "cell_type": "markdown",
   "metadata": {
    "heading_collapsed": true
   },
   "source": [
    "## 32 patch size 200 samples 4000 steps\n"
   ]
  },
  {
   "cell_type": "code",
   "execution_count": 66,
   "metadata": {
    "hidden": true
   },
   "outputs": [
    {
     "name": "stdout",
     "output_type": "stream",
     "text": [
      "Print the Dice for Validation Image:  IBSR_11_seg.nii.gz\n",
      "CSF DICE = 0.09691578392930297 GM DICE = 0.7596137902144284 WM DICE = 0.8033337387852763\n",
      "Print the Dice for Validation Image:  IBSR_12_seg.nii.gz\n",
      "CSF DICE = 0.07588323104992536 GM DICE = 0.6683708676417472 WM DICE = 0.7020870882203888\n",
      "Print the Dice for Validation Image:  IBSR_13_seg.nii.gz\n",
      "CSF DICE = 0.09310548025928109 GM DICE = 0.6563687201370636 WM DICE = 0.629080822990513\n",
      "Print the Dice for Validation Image:  IBSR_14_seg.nii.gz\n",
      "CSF DICE = 0.04724238812439051 GM DICE = 0.7306315428693557 WM DICE = 0.7383388329073317\n",
      "Print the Dice for Validation Image:  IBSR_17_seg.nii.gz\n",
      "CSF DICE = 0.03275248266816563 GM DICE = 0.7246907639263218 WM DICE = 0.7106345161197845\n",
      "###Printing Avg ± Standard Daviation###\n",
      "Avg CSF DICE = 0.06917987320621313 ± 0.028261539483919244\n",
      "Avg GM DICE = 0.7079351369577834 ± 0.04384913861489262\n",
      "Avg WM DICE = 0.7166949998046588 ± 0.06304976432489022\n"
     ]
    },
    {
     "data": {
      "image/png": "[encoded data removed]",
      "text/plain": [
       "<Figure size 432x288 with 1 Axes>"
      ]
     },
     "metadata": {},
     "output_type": "display_data"
    },
    {
     "data": {
      "text/plain": [
       "array([0.06917987, 0.70793514, 0.716695  ])"
      ]
     },
     "execution_count": 66,
     "metadata": {},
     "output_type": "execute_result"
    }
   ],
   "source": [
    "GT_data_path =\"H:/MISA_results/val_gt_pre/\"    \n",
    "Segmented_data_path =\"H:/MISA_results/nnet_finalData_results/patch32/val/\"\n",
    "\n",
    "visualize_dices(Segmented_data_path,GT_data_path)"
   ]
  },
  {
   "cell_type": "markdown",
   "metadata": {
    "heading_collapsed": true
   },
   "source": [
    "## 64 patch size 200 samples 4000 steps"
   ]
  },
  {
   "cell_type": "code",
   "execution_count": 71,
   "metadata": {
    "hidden": true
   },
   "outputs": [
    {
     "name": "stdout",
     "output_type": "stream",
     "text": [
      "Print the Dice for Validation Image:  IBSR_11_seg.nii.gz\n",
      "CSF DICE = 0.78179931640625 GM DICE = 0.9109983401122642 WM DICE = 0.9165718913865828\n",
      "Print the Dice for Validation Image:  IBSR_12_seg.nii.gz\n",
      "CSF DICE = 0.7616160255114645 GM DICE = 0.8870182153924365 WM DICE = 0.8843134104598543\n",
      "Print the Dice for Validation Image:  IBSR_13_seg.nii.gz\n",
      "CSF DICE = 0.7668081521563037 GM DICE = 0.8805804519281399 WM DICE = 0.8316690458849235\n",
      "Print the Dice for Validation Image:  IBSR_14_seg.nii.gz\n",
      "CSF DICE = 0.8272017837235228 GM DICE = 0.9224309704428758 WM DICE = 0.9054039670383252\n",
      "Print the Dice for Validation Image:  IBSR_17_seg.nii.gz\n",
      "CSF DICE = 0.8705533406521446 GM DICE = 0.916153733703158 WM DICE = 0.8939442949183506\n",
      "###Printing Avg ± Standard Daviation###\n",
      "Avg CSF DICE = 0.8015957236899371 ± 0.046398470849105505\n",
      "Avg GM DICE = 0.903436342315775 ± 0.0185179532423489\n",
      "Avg WM DICE = 0.8863805219376074 ± 0.032894678430308556\n"
     ]
    },
    {
     "data": {
      "image/png": "[encoded data removed]",
      "text/plain": [
       "<Figure size 432x288 with 1 Axes>"
      ]
     },
     "metadata": {},
     "output_type": "display_data"
    },
    {
     "data": {
      "text/plain": [
       "array([0.80159572, 0.90343634, 0.88638052])"
      ]
     },
     "execution_count": 71,
     "metadata": {},
     "output_type": "execute_result"
    }
   ],
   "source": [
    "GT_data_path =\"H:/MISA_results/val_gt_pre/\"    \n",
    "Segmented_data_path =\"G:/64/\"\n",
    "\n",
    "visualize_dices(Segmented_data_path,GT_data_path)"
   ]
  },
  {
   "cell_type": "markdown",
   "metadata": {},
   "source": [
    "## 128 patch"
   ]
  },
  {
   "cell_type": "code",
   "execution_count": 72,
   "metadata": {},
   "outputs": [
    {
     "name": "stdout",
     "output_type": "stream",
     "text": [
      "Print the Dice for Validation Image:  IBSR_11_seg.nii.gz\n",
      "CSF DICE = 0.8759024147373662 GM DICE = 0.9235291419300478 WM DICE = 0.9407176753998484\n",
      "Print the Dice for Validation Image:  IBSR_12_seg.nii.gz\n",
      "CSF DICE = 0.8745024374972047 GM DICE = 0.9179978836444639 WM DICE = 0.9329688671162409\n",
      "Print the Dice for Validation Image:  IBSR_13_seg.nii.gz\n",
      "CSF DICE = 0.8693974575395321 GM DICE = 0.9347193116340363 WM DICE = 0.915457483045702\n",
      "Print the Dice for Validation Image:  IBSR_14_seg.nii.gz\n",
      "CSF DICE = 0.8975435323383084 GM DICE = 0.9374110945594462 WM DICE = 0.9295850448522546\n",
      "Print the Dice for Validation Image:  IBSR_17_seg.nii.gz\n",
      "CSF DICE = 0.9164754895663185 GM DICE = 0.941242601502198 WM DICE = 0.9190548479203374\n",
      "###Printing Avg ± Standard Daviation###\n",
      "Avg CSF DICE = 0.886764266335746 ± 0.019804593379984296\n",
      "Avg GM DICE = 0.9309800066540384 ± 0.009807051664095108\n",
      "Avg WM DICE = 0.9275567836668767 ± 0.01031127476195157\n"
     ]
    },
    {
     "data": {
      "image/png": "[encoded data removed]",
      "text/plain": [
       "<Figure size 432x288 with 1 Axes>"
      ]
     },
     "metadata": {},
     "output_type": "display_data"
    },
    {
     "data": {
      "text/plain": [
       "array([0.88676427, 0.93098001, 0.92755678])"
      ]
     },
     "execution_count": 72,
     "metadata": {},
     "output_type": "execute_result"
    }
   ],
   "source": [
    "GT_data_path =\"H:/MISA_results/val_gt_pre/\"    \n",
    "Segmented_data_path =\"H:/MISA_results/nnet_finalData_results/tu/\"\n",
    "\n",
    "visualize_dices(Segmented_data_path,GT_data_path)"
   ]
  },
  {
   "cell_type": "code",
   "execution_count": null,
   "metadata": {},
   "outputs": [],
   "source": []
  }
 ],
 "metadata": {
  "kernelspec": {
   "display_name": "Python 3",
   "language": "python",
   "name": "python3"
  },
  "language_info": {
   "codemirror_mode": {
    "name": "ipython",
    "version": 3
   },
   "file_extension": ".py",
   "mimetype": "text/x-python",
   "name": "python",
   "nbconvert_exporter": "python",
   "pygments_lexer": "ipython3",
   "version": "3.5.5"
  },
  "toc": {
   "base_numbering": 1,
   "nav_menu": {},
   "number_sections": true,
   "sideBar": true,
   "skip_h1_title": false,
   "title_cell": "Table of Contents",
   "title_sidebar": "Contents",
   "toc_cell": true,
   "toc_position": {
    "height": "calc(100% - 180px)",
    "left": "10px",
    "top": "150px",
    "width": "277px"
   },
   "toc_section_display": true,
   "toc_window_display": true
  }
 },
 "nbformat": 4,
 "nbformat_minor": 2
}
