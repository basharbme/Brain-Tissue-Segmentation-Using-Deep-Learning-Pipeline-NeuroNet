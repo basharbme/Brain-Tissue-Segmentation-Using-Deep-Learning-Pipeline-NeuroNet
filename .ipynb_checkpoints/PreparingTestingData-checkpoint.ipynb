{
 "cells": [
  {
   "cell_type": "markdown",
   "metadata": {
    "toc": true
   },
   "source": [
    "<h1>Table of Contents<span class=\"tocSkip\"></span></h1>\n",
    "<div class=\"toc\"><ul class=\"toc-item\"><li><span><a href=\"#Importing-Libraries\" data-toc-modified-id=\"Importing-Libraries-1\"><span class=\"toc-item-num\">1&nbsp;&nbsp;</span>Importing Libraries</a></span></li><li><span><a href=\"#Function\" data-toc-modified-id=\"Function-2\"><span class=\"toc-item-num\">2&nbsp;&nbsp;</span>Function</a></span></li><li><span><a href=\"#Histogram-Matching\" data-toc-modified-id=\"Histogram-Matching-3\"><span class=\"toc-item-num\">3&nbsp;&nbsp;</span>Histogram Matching</a></span></li><li><span><a href=\"#Normalization-and-Histogram-Matching\" data-toc-modified-id=\"Normalization-and-Histogram-Matching-4\"><span class=\"toc-item-num\">4&nbsp;&nbsp;</span>Normalization and Histogram Matching</a></span><ul class=\"toc-item\"><li><span><a href=\"#Loading-Reference-data\" data-toc-modified-id=\"Loading-Reference-data-4.1\"><span class=\"toc-item-num\">4.1&nbsp;&nbsp;</span>Loading Reference data</a></span></li></ul></li><li><span><a href=\"#Making-the-labels-back-to-original-Spacing\" data-toc-modified-id=\"Making-the-labels-back-to-original-Spacing-5\"><span class=\"toc-item-num\">5&nbsp;&nbsp;</span>Making the labels back to original Spacing</a></span><ul class=\"toc-item\"><li><span><a href=\"#Segmented-Results\" data-toc-modified-id=\"Segmented-Results-5.1\"><span class=\"toc-item-num\">5.1&nbsp;&nbsp;</span>Segmented Results</a></span></li><li><span><a href=\"#Raw-Test-Data\" data-toc-modified-id=\"Raw-Test-Data-5.2\"><span class=\"toc-item-num\">5.2&nbsp;&nbsp;</span>Raw Test Data</a></span></li><li><span><a href=\"#Transformation-Matrix\" data-toc-modified-id=\"Transformation-Matrix-5.3\"><span class=\"toc-item-num\">5.3&nbsp;&nbsp;</span>Transformation Matrix</a></span></li><li><span><a href=\"#Inverse-Registration\" data-toc-modified-id=\"Inverse-Registration-5.4\"><span class=\"toc-item-num\">5.4&nbsp;&nbsp;</span>Inverse Registration</a></span></li></ul></li></ul></div>"
   ]
  },
  {
   "cell_type": "markdown",
   "metadata": {},
   "source": [
    " Description & Instructions How to use this Script.\n",
    "\n",
    "* 1) Import the libraries running the Section \"Importing Libararies\"\n",
    "* 2) Function used in for histpgram matching and Normalization\n",
    "* 3) Apply the Histogram Maching\n",
    "* 4) Making 1mx1mx1m predicted Segmented Prediction to Original Spacing Using the prevviously saved Transformation Matrix"
   ]
  },
  {
   "cell_type": "markdown",
   "metadata": {
    "heading_collapsed": true
   },
   "source": [
    "# Importing Libraries"
   ]
  },
  {
   "cell_type": "code",
   "execution_count": 1,
   "metadata": {
    "hidden": true
   },
   "outputs": [
    {
     "name": "stderr",
     "output_type": "stream",
     "text": [
      "C:\\Users\\Fakrul-IslamTUSHAR\\Anaconda2\\envs\\nnet\\lib\\site-packages\\h5py\\__init__.py:36: FutureWarning: Conversion of the second argument of issubdtype from `float` to `np.floating` is deprecated. In future, it will be treated as `np.float64 == np.dtype(float).type`.\n",
      "  from ._conv import register_converters as _register_converters\n"
     ]
    }
   ],
   "source": [
    "import SimpleITK as sitk\n",
    "import os\n",
    "import pandas as pd\n",
    "import numpy as np\n",
    "import glob\n",
    "import os\n",
    "import nibabel as nib\n",
    "\n",
    "from matplotlib import pyplot as plt\n",
    "from dltk.io.augmentation import *\n",
    "from dltk.io.preprocessing import *"
   ]
  },
  {
   "cell_type": "markdown",
   "metadata": {
    "heading_collapsed": true
   },
   "source": [
    "# Function"
   ]
  },
  {
   "cell_type": "markdown",
   "metadata": {},
   "source": [
    "# Histogram Matching"
   ]
  },
  {
   "cell_type": "code",
   "execution_count": 2,
   "metadata": {},
   "outputs": [],
   "source": [
    "# -------------------------------------------------------\n",
    "##This functions were coppied from the github reprocesoty:https://github.com/sergivalverde/mri_utils\n",
    "# if you this code please refer this github.\n",
    "\n",
    "# Image processing functions\n",
    "# Useful for brain MRI analysis\n",
    "#\n",
    "# Sergi Valverde 2018\n",
    "# svalverde@eia.udg.edu\n",
    "#\n",
    "# -------------------------------------------------------\n",
    "\n",
    "import numpy as np\n",
    "from scipy.ndimage import label\n",
    "from scipy.ndimage import labeled_comprehension as lc\n",
    "import SimpleITK as sitk\n",
    "\n",
    "\n",
    "\n",
    "def histogram_matching(mov_scan, ref_scan,\n",
    "                       histogram_levels=2048,\n",
    "                       match_points=100,\n",
    "                       set_th_mean=True):\n",
    "    \"\"\"\n",
    "    Histogram matching following the method developed on\n",
    "    Nyul et al 2001 (ITK implementation)\n",
    "    inputs:\n",
    "    - mov_scan: np.array containing the image to normalize\n",
    "    - ref_scan np.array containing the reference image\n",
    "    - histogram levels\n",
    "    - number of matched points\n",
    "    - Threshold Mean setting\n",
    "    outputs:\n",
    "    - histogram matched image\n",
    "    \"\"\"\n",
    "\n",
    "    # convert np arrays into itk image objects\n",
    "    ref = sitk.GetImageFromArray(ref_scan.astype('float32'))\n",
    "    mov = sitk.GetImageFromArray(mov_scan.astype('float32'))\n",
    "\n",
    "    # perform histogram matching\n",
    "    caster = sitk.CastImageFilter()\n",
    "    caster.SetOutputPixelType(ref.GetPixelID())\n",
    "\n",
    "    matcher = sitk.HistogramMatchingImageFilter()\n",
    "    matcher.SetNumberOfHistogramLevels(histogram_levels)\n",
    "    matcher.SetNumberOfMatchPoints(match_points)\n",
    "    matcher.SetThresholdAtMeanIntensity(set_th_mean)\n",
    "    matched_vol = matcher.Execute(mov, ref)\n",
    "\n",
    "    return matched_vol"
   ]
  },
  {
   "cell_type": "markdown",
   "metadata": {},
   "source": [
    "# Normalization and Histogram Matching"
   ]
  },
  {
   "cell_type": "markdown",
   "metadata": {},
   "source": [
    "## Loading Reference data "
   ]
  },
  {
   "cell_type": "code",
   "execution_count": 4,
   "metadata": {},
   "outputs": [
    {
     "name": "stderr",
     "output_type": "stream",
     "text": [
      "C:\\Users\\Fakrul-IslamTUSHAR\\Anaconda2\\envs\\nnet\\lib\\site-packages\\ipykernel_launcher.py:5: FutureWarning: Method .as_matrix will be removed in a future version. Use .values instead.\n",
      "  \"\"\"\n"
     ]
    }
   ],
   "source": [
    "mylist = pd.read_csv(\n",
    "        \"MISAPreorocessingTestReg_info.csv\",\n",
    "        dtype=object,\n",
    "        keep_default_na=False,\n",
    "        na_values=[]).as_matrix()"
   ]
  },
  {
   "cell_type": "code",
   "execution_count": 5,
   "metadata": {},
   "outputs": [],
   "source": [
    "Save_Preprocessed_Test_data=\"C:/Users/Fakrul-IslamTUSHAR/Documents/MISAProject/MisaPreProcessing/save_processed_test_data/\"\n"
   ]
  },
  {
   "cell_type": "code",
   "execution_count": 6,
   "metadata": {},
   "outputs": [],
   "source": [
    "ref_volume=sitk.ReadImage(\"ref_07.nii.gz\", sitk.sitkFloat32)\n",
    "ref_array = sitk.GetArrayFromImage(ref_volume)"
   ]
  },
  {
   "cell_type": "code",
   "execution_count": 8,
   "metadata": {},
   "outputs": [
    {
     "name": "stdout",
     "output_type": "stream",
     "text": [
      "IBSR_02\n",
      "########Saved#########\n",
      "IBSR_10\n",
      "########Saved#########\n",
      "IBSR_15\n",
      "########Saved#########\n"
     ]
    }
   ],
   "source": [
    "for im in mylist:\n",
    "    ###Getting Suvject MRI\n",
    "    img_fn = str(im[1])\n",
    "    img_name = img_fn.split('/')[-1].split('.')[0]\n",
    "    print(img_name)\n",
    "    #Image_Name.append(img_name)\n",
    "    histoMached_imageName=img_name+'.nii.gz'    \n",
    "\n",
    "# =============================================================================\n",
    "#   load data\n",
    "# =============================================================================\n",
    "    #Loading the image\n",
    "    sitk_t1 =  sitk.ReadImage(img_fn, sitk.sitkFloat32)\n",
    "    t1 = sitk.GetArrayFromImage(sitk_t1)\n",
    "    normalized_vol=normalise_zero_one(t1)\n",
    "    \n",
    "    \n",
    "    Histo_mached_vol=histogram_matching(normalized_vol,ref_array)\n",
    "    Histo_mached_vol.CopyInformation(sitk_t1)\n",
    "    \n",
    "    sitk.WriteImage(Histo_mached_vol, os.path.join(Save_Preprocessed_Test_data,histoMached_imageName))\n",
    "    print(\"########Saved#########\")"
   ]
  },
  {
   "cell_type": "code",
   "execution_count": 9,
   "metadata": {},
   "outputs": [
    {
     "name": "stdout",
     "output_type": "stream",
     "text": [
      "[['IBSR_02'\n",
      "  'C:/Users/Fakrul-IslamTUSHAR/Documents/MISAProject/MisaPreProcessing/Registered_Testdata/IBSR_02.nii.gz'\n",
      "  'C:/Users/Fakrul-IslamTUSHAR/Documents/MISAProject/MisaPreProcessing/Registered_Testdata_tmf_file/IBSR_02.tfm']\n",
      " ['IBSR_10'\n",
      "  'C:/Users/Fakrul-IslamTUSHAR/Documents/MISAProject/MisaPreProcessing/Registered_Testdata/IBSR_10.nii.gz'\n",
      "  'C:/Users/Fakrul-IslamTUSHAR/Documents/MISAProject/MisaPreProcessing/Registered_Testdata_tmf_file/IBSR_10.tfm']\n",
      " ['IBSR_15'\n",
      "  'C:/Users/Fakrul-IslamTUSHAR/Documents/MISAProject/MisaPreProcessing/Registered_Testdata/IBSR_15.nii.gz'\n",
      "  'C:/Users/Fakrul-IslamTUSHAR/Documents/MISAProject/MisaPreProcessing/Registered_Testdata_tmf_file/IBSR_15.tfm']]\n"
     ]
    }
   ],
   "source": [
    "print(mylist)"
   ]
  },
  {
   "cell_type": "markdown",
   "metadata": {
    "heading_collapsed": true
   },
   "source": [
    "# Making the labels back to original Spacing"
   ]
  },
  {
   "cell_type": "markdown",
   "metadata": {
    "hidden": true
   },
   "source": [
    "For This Process Following steps need to be done.\n",
    "\n",
    "* 1) Put path of the Prediction(Segmented Nifti file) in Section 5.1 \"Final_Seg_test_path\"\n",
    "* 2) Put path of the RAW DATA(Nifti file) in Section 5.2 \"Test_data_raw_path\"\n",
    "* 3) Put path of the Saved Transformation Matrics(Nifti file) in Section 5.3 \"tmf_path\"\n",
    "* 4) put the desired folder path were you want to save the Segmented nifti with the original spacing \"path_to_save_images\" and RUN."
   ]
  },
  {
   "cell_type": "markdown",
   "metadata": {
    "heading_collapsed": true,
    "hidden": true
   },
   "source": [
    "## Segmented Results"
   ]
  },
  {
   "cell_type": "code",
   "execution_count": 35,
   "metadata": {
    "hidden": true
   },
   "outputs": [
    {
     "name": "stdout",
     "output_type": "stream",
     "text": [
      "['IBSR_02_seg.nii.gz', 'IBSR_10_seg.nii.gz', 'IBSR_15_seg.nii.gz']\n"
     ]
    }
   ],
   "source": [
    "Final_Seg_test_path=\"H:/f_r/final_test/\"\n",
    "My_Predicted_Seg_list=os.listdir(Final_Seg_test_path)\n",
    "print(My_Predicted_Seg_list)\n",
    "\n",
    "#complete_Segmented_data=Final_Seg_test_path+My_Predicted_Seg_list[0]\n",
    "#print(Segmented_data)"
   ]
  },
  {
   "cell_type": "markdown",
   "metadata": {
    "heading_collapsed": true,
    "hidden": true
   },
   "source": [
    "## Raw Test Data "
   ]
  },
  {
   "cell_type": "code",
   "execution_count": 36,
   "metadata": {
    "hidden": true
   },
   "outputs": [
    {
     "name": "stdout",
     "output_type": "stream",
     "text": [
      "['IBSR_02.nii.gz', 'IBSR_10.nii.gz', 'IBSR_15.nii.gz']\n"
     ]
    }
   ],
   "source": [
    "Test_data_raw_path=\"C:/Users/Fakrul-IslamTUSHAR/Documents/MISAProject/MisaPreProcessing/Test_Data_Raw/\"\n",
    "Test_data_list=os.listdir(Test_data_raw_path)\n",
    "print(Test_data_list)\n",
    "\n",
    "#complete_RAW_data=Test_data_raw_path+Test_data_list[0]\n",
    "#print(complete_RAW_data)"
   ]
  },
  {
   "cell_type": "markdown",
   "metadata": {
    "heading_collapsed": true,
    "hidden": true
   },
   "source": [
    "## Transformation Matrix"
   ]
  },
  {
   "cell_type": "code",
   "execution_count": 37,
   "metadata": {
    "hidden": true
   },
   "outputs": [
    {
     "name": "stdout",
     "output_type": "stream",
     "text": [
      "['IBSR_02.tfm', 'IBSR_10.tfm', 'IBSR_15.tfm']\n"
     ]
    }
   ],
   "source": [
    "tmf_path=\"C:/Users/Fakrul-IslamTUSHAR/Documents/MISAProject/MisaPreProcessing/Registered_Testdata_tmf_file/\"\n",
    "tmf_data_list=os.listdir(tmf_path)\n",
    "print(tmf_data_list)"
   ]
  },
  {
   "cell_type": "markdown",
   "metadata": {
    "heading_collapsed": true,
    "hidden": true
   },
   "source": [
    "## Inverse Registration"
   ]
  },
  {
   "cell_type": "code",
   "execution_count": 41,
   "metadata": {
    "hidden": true
   },
   "outputs": [
    {
     "name": "stdout",
     "output_type": "stream",
     "text": [
      "H:/f_r/final_test/IBSR_02_seg.nii.gz\n",
      "C:/Users/Fakrul-IslamTUSHAR/Documents/MISAProject/MisaPreProcessing/Test_Data_Raw/IBSR_02.nii.gz\n",
      "C:/Users/Fakrul-IslamTUSHAR/Documents/MISAProject/MisaPreProcessing/Registered_Testdata_tmf_file/IBSR_02.tfm\n",
      "IBSR_02\n",
      "H:/f_r/final_test/IBSR_10_seg.nii.gz\n",
      "C:/Users/Fakrul-IslamTUSHAR/Documents/MISAProject/MisaPreProcessing/Test_Data_Raw/IBSR_10.nii.gz\n",
      "C:/Users/Fakrul-IslamTUSHAR/Documents/MISAProject/MisaPreProcessing/Registered_Testdata_tmf_file/IBSR_10.tfm\n",
      "IBSR_10\n",
      "H:/f_r/final_test/IBSR_15_seg.nii.gz\n",
      "C:/Users/Fakrul-IslamTUSHAR/Documents/MISAProject/MisaPreProcessing/Test_Data_Raw/IBSR_15.nii.gz\n",
      "C:/Users/Fakrul-IslamTUSHAR/Documents/MISAProject/MisaPreProcessing/Registered_Testdata_tmf_file/IBSR_15.tfm\n",
      "IBSR_15\n"
     ]
    }
   ],
   "source": [
    "path_to_save_images=\"C:/Users/Fakrul-IslamTUSHAR/Documents/MISAProject/MisaPreProcessing/submission/\"\n",
    "\n",
    "for im in range(0,3):\n",
    "    \n",
    "    ##Creating Data Path\n",
    "    complete_Segmented_data=Final_Seg_test_path+My_Predicted_Seg_list[im]\n",
    "    complete_RAW_data=Test_data_raw_path+Test_data_list[im]\n",
    "    complete_tmf_data=tmf_path+tmf_data_list[im]\n",
    "    \n",
    "    print(complete_Segmented_data)\n",
    "    print(complete_RAW_data)\n",
    "    print(complete_tmf_data)\n",
    "    \n",
    "     ###Getting Suvject MRI\n",
    "    img_fn = str(complete_RAW_data)\n",
    "    img_name = img_fn.split('/')[-1].split('.')[0]\n",
    "    label_fn=str(complete_Segmented_data)\n",
    "    \n",
    "    \n",
    "    \n",
    "    print(img_name)\n",
    "    \n",
    "    ##Creating Name\n",
    "    Registered_imageName=img_name+\"_seg\"+'.nii.gz'\n",
    "    \n",
    "    ##The Original Spaced Image\n",
    "    Original_fixed=sitk.ReadImage(img_fn, sitk.sitkFloat32)\n",
    "    \n",
    "    ####Segmented Prediction\n",
    "    label_Registered_moving=sitk.ReadImage(label_fn, sitk.sitkFloat32)\n",
    "    \n",
    "    ######Load the Transformation\n",
    "    initial_transform_for_InterTransformation=sitk.ReadTransform(complete_tmf_data)\n",
    "    inverse_Transformation=initial_transform_for_InterTransformation.GetInverse()\n",
    "    \n",
    "    Original_resampled_label = sitk.Resample(label_Registered_moving, Original_fixed, \n",
    "                                             inverse_Transformation, sitk.sitkNearestNeighbor, 0.0, \n",
    "                                             label_Registered_moving.GetPixelID())\n",
    "    \n",
    "    sitk.WriteImage(Original_resampled_label, os.path.join(path_to_save_images, Registered_imageName))\n",
    "    \n",
    "    \n",
    "    "
   ]
  },
  {
   "cell_type": "code",
   "execution_count": null,
   "metadata": {
    "hidden": true
   },
   "outputs": [],
   "source": []
  }
 ],
 "metadata": {
  "kernelspec": {
   "display_name": "Python 3",
   "language": "python",
   "name": "python3"
  },
  "language_info": {
   "codemirror_mode": {
    "name": "ipython",
    "version": 3
   },
   "file_extension": ".py",
   "mimetype": "text/x-python",
   "name": "python",
   "nbconvert_exporter": "python",
   "pygments_lexer": "ipython3",
   "version": "3.6.7"
  },
  "toc": {
   "base_numbering": 1,
   "nav_menu": {},
   "number_sections": true,
   "sideBar": true,
   "skip_h1_title": false,
   "title_cell": "Table of Contents",
   "title_sidebar": "Contents",
   "toc_cell": true,
   "toc_position": {},
   "toc_section_display": true,
   "toc_window_display": true
  },
  "varInspector": {
   "cols": {
    "lenName": 16,
    "lenType": 16,
    "lenVar": 40
   },
   "kernels_config": {
    "python": {
     "delete_cmd_postfix": "",
     "delete_cmd_prefix": "del ",
     "library": "var_list.py",
     "varRefreshCmd": "print(var_dic_list())"
    },
    "r": {
     "delete_cmd_postfix": ") ",
     "delete_cmd_prefix": "rm(",
     "library": "var_list.r",
     "varRefreshCmd": "cat(var_dic_list()) "
    }
   },
   "types_to_exclude": [
    "module",
    "function",
    "builtin_function_or_method",
    "instance",
    "_Feature"
   ],
   "window_display": false
  }
 },
 "nbformat": 4,
 "nbformat_minor": 2
}
