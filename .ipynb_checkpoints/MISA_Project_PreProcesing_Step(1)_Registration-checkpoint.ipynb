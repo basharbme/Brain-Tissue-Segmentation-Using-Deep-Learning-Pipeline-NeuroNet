{
 "cells": [
  {
   "cell_type": "markdown",
   "metadata": {
    "toc": true
   },
   "source": [
    "<h1>Table of Contents<span class=\"tocSkip\"></span></h1>\n",
    "<div class=\"toc\"><ul class=\"toc-item\"><li><span><a href=\"#Import-Libraries\" data-toc-modified-id=\"Import-Libraries-1\"><span class=\"toc-item-num\">1&nbsp;&nbsp;</span>Import Libraries</a></span></li><li><span><a href=\"#Reading-the-Training-and-validation-Data\" data-toc-modified-id=\"Reading-the-Training-and-validation-Data-2\"><span class=\"toc-item-num\">2&nbsp;&nbsp;</span>Reading the Training and validation Data</a></span></li><li><span><a href=\"#Function-For-registration\" data-toc-modified-id=\"Function-For-registration-3\"><span class=\"toc-item-num\">3&nbsp;&nbsp;</span>Function For registration</a></span></li><li><span><a href=\"#Performing-Registration\" data-toc-modified-id=\"Performing-Registration-4\"><span class=\"toc-item-num\">4&nbsp;&nbsp;</span>Performing Registration</a></span></li><li><span><a href=\"#Dice-Similarity-Fuction\" data-toc-modified-id=\"Dice-Similarity-Fuction-5\"><span class=\"toc-item-num\">5&nbsp;&nbsp;</span>Dice Similarity Fuction</a></span></li><li><span><a href=\"#Cheaking-inverse-registration-will-work-or-not\" data-toc-modified-id=\"Cheaking-inverse-registration-will-work-or-not-6\"><span class=\"toc-item-num\">6&nbsp;&nbsp;</span>Cheaking inverse registration will work or not</a></span></li><li><span><a href=\"#Creating-the-excel-File-of-the-Registered-Training-and-Validation-Path.\" data-toc-modified-id=\"Creating-the-excel-File-of-the-Registered-Training-and-Validation-Path.-7\"><span class=\"toc-item-num\">7&nbsp;&nbsp;</span>Creating the excel File of the Registered Training and Validation Path.</a></span></li><li><span><a href=\"#Registartion-For-Test-Imaes\" data-toc-modified-id=\"Registartion-For-Test-Imaes-8\"><span class=\"toc-item-num\">8&nbsp;&nbsp;</span>Registartion For Test Imaes</a></span></li><li><span><a href=\"#Creating-A-Excel-File-For-Registered-Test-Data\" data-toc-modified-id=\"Creating-A-Excel-File-For-Registered-Test-Data-9\"><span class=\"toc-item-num\">9&nbsp;&nbsp;</span>Creating A Excel File For Registered Test Data</a></span></li></ul></div>"
   ]
  },
  {
   "cell_type": "markdown",
   "metadata": {},
   "source": [
    "This Notebook is to 1st Preprocessing Steps for the MISA project. Registering the Training and Validation Data to\n",
    " MNI 1mm Template (MNI152_T1_1mm_Brain.nii.gz) "
   ]
  },
  {
   "cell_type": "markdown",
   "metadata": {
    "heading_collapsed": true
   },
   "source": [
    "# Import Libraries"
   ]
  },
  {
   "cell_type": "code",
   "execution_count": 1,
   "metadata": {
    "hidden": true
   },
   "outputs": [
    {
     "name": "stderr",
     "output_type": "stream",
     "text": [
      "C:\\Users\\Fakrul-IslamTUSHAR\\Anaconda2\\envs\\nnet\\lib\\site-packages\\h5py\\__init__.py:36: FutureWarning: Conversion of the second argument of issubdtype from `float` to `np.floating` is deprecated. In future, it will be treated as `np.float64 == np.dtype(float).type`.\n",
      "  from ._conv import register_converters as _register_converters\n"
     ]
    }
   ],
   "source": [
    "import os\n",
    "import numpy as np\n",
    "import nibabel as nib\n",
    "import matplotlib.pyplot as plt\n",
    "from sklearn.cluster import KMeans\n",
    "from numpy.linalg import inv, det, norm\n",
    "from math import sqrt, pi\n",
    "from functools import partial\n",
    "from scipy.spatial.distance import dice\n",
    "import time\n",
    "import operator\n",
    "import matplotlib.pyplot as plt\n",
    "import SimpleITK as sitk\n",
    "import pandas as pd\n",
    "import seaborn as sns\n",
    "%matplotlib inline"
   ]
  },
  {
   "cell_type": "markdown",
   "metadata": {
    "heading_collapsed": true
   },
   "source": [
    "# Reading the Training and validation Data"
   ]
  },
  {
   "cell_type": "code",
   "execution_count": 2,
   "metadata": {
    "hidden": true
   },
   "outputs": [
    {
     "name": "stderr",
     "output_type": "stream",
     "text": [
      "C:\\Users\\Fakrul-IslamTUSHAR\\Anaconda2\\envs\\nnet\\lib\\site-packages\\ipykernel_launcher.py:5: FutureWarning: Method .as_matrix will be removed in a future version. Use .values instead.\n",
      "  \"\"\"\n"
     ]
    }
   ],
   "source": [
    "mylist = pd.read_csv(\n",
    "        \"TrainAndValidation.csv\",\n",
    "        dtype=object,\n",
    "        keep_default_na=False,\n",
    "        na_values=[]).as_matrix()"
   ]
  },
  {
   "cell_type": "code",
   "execution_count": 3,
   "metadata": {
    "hidden": true
   },
   "outputs": [
    {
     "name": "stdout",
     "output_type": "stream",
     "text": [
      "['1'\n",
      " 'C:/Users/Fakrul-IslamTUSHAR/Documents/MISAProject/TrainingValidationTestSets/Training_Set/IBSR_01/IBSR_01.nii'\n",
      " 'C:/Users/Fakrul-IslamTUSHAR/Documents/MISAProject/TrainingValidationTestSets/Training_Set/IBSR_01/IBSR_01_seg.nii']\n"
     ]
    }
   ],
   "source": [
    "print(mylist[0])"
   ]
  },
  {
   "cell_type": "markdown",
   "metadata": {
    "heading_collapsed": true
   },
   "source": [
    "# Function For registration"
   ]
  },
  {
   "cell_type": "markdown",
   "metadata": {
    "hidden": true
   },
   "source": [
    "Helper Function for the registartion"
   ]
  },
  {
   "cell_type": "code",
   "execution_count": 4,
   "metadata": {
    "hidden": true
   },
   "outputs": [],
   "source": [
    "from ipywidgets import interact, fixed\n",
    "from IPython.display import clear_output\n",
    "\n",
    "# =============================================================================\n",
    "# Function Definitions\n",
    "# =============================================================================\n",
    "\n",
    "# Callback invoked by the interact IPython method for scrolling through the image stacks of\n",
    "# the two images (moving and fixed).\n",
    "def display_images(fixed_image_z, moving_image_z, fixed_npa, moving_npa):\n",
    "    # Create a figure with two subplots and the specified size.\n",
    "    plt.subplots(1,2,figsize=(10,8))\n",
    "    \n",
    "    # Draw the fixed image in the first subplot.\n",
    "    plt.subplot(1,2,1)\n",
    "    plt.imshow(fixed_npa[fixed_image_z,:,:],cmap=plt.cm.Greys_r);\n",
    "    plt.title('fixed image')\n",
    "    plt.axis('off')\n",
    "    \n",
    "    # Draw the moving image in the second subplot.\n",
    "    plt.subplot(1,2,2)\n",
    "    plt.imshow(moving_npa[moving_image_z,:,:],cmap=plt.cm.Greys_r);\n",
    "    plt.title('moving image')\n",
    "    plt.axis('off')\n",
    "    \n",
    "    plt.show()\n",
    "\n",
    "# Callback invoked by the IPython interact method for scrolling and modifying the alpha blending\n",
    "# of an image stack of two images that occupy the same physical space. \n",
    "def display_images_with_alpha(image_z, alpha, fixed, moving):\n",
    "    img = (1.0 - alpha)*fixed[:,:,image_z] + alpha*moving[:,:,image_z] \n",
    "    plt.imshow(sitk.GetArrayViewFromImage(img),cmap=plt.cm.Greys_r);\n",
    "    plt.axis('off')\n",
    "    plt.show()\n",
    "    \n",
    "# Callback invoked when the StartEvent happens, sets up our new data.\n",
    "def start_plot():\n",
    "    global metric_values, multires_iterations\n",
    "    \n",
    "    metric_values = []\n",
    "    multires_iterations = []\n",
    "\n",
    "# Callback invoked when the EndEvent happens, do cleanup of data and figure.\n",
    "def end_plot():\n",
    "    global metric_values, multires_iterations\n",
    "    \n",
    "    del metric_values\n",
    "    del multires_iterations\n",
    "    # Close figure, we don't want to get a duplicate of the plot latter on.\n",
    "    plt.close()\n",
    "\n",
    "# Callback invoked when the IterationEvent happens, update our data and display new figure.    \n",
    "def plot_values(registration_method):\n",
    "    global metric_values, multires_iterations\n",
    "    \n",
    "    metric_values.append(registration_method.GetMetricValue())                                       \n",
    "    # Clear the output area (wait=True, to reduce flickering), and plot current data\n",
    "    clear_output(wait=True)\n",
    "    # Plot the similarity metric values\n",
    "    plt.plot(metric_values, 'r')\n",
    "    plt.plot(multires_iterations, [metric_values[index] for index in multires_iterations], 'b*')\n",
    "    plt.xlabel('Iteration Number',fontsize=12)\n",
    "    plt.ylabel('Metric Value',fontsize=12)\n",
    "    plt.show()\n",
    "    \n",
    "# Callback invoked when the sitkMultiResolutionIterationEvent happens, update the index into the \n",
    "# metric_values list. \n",
    "def update_multires_iterations():\n",
    "    global metric_values, multires_iterations\n",
    "    multires_iterations.append(len(metric_values))\n",
    "    "
   ]
  },
  {
   "cell_type": "markdown",
   "metadata": {
    "heading_collapsed": true
   },
   "source": [
    "# Performing Registration"
   ]
  },
  {
   "cell_type": "code",
   "execution_count": 10,
   "metadata": {
    "hidden": true
   },
   "outputs": [],
   "source": [
    "#Defininf The Output Folder\n",
    "Output_Registered_image_path='C:/Users/Fakrul-IslamTUSHAR/Documents/MISAProject/MisaPreProcessing/Registered_data/'\n",
    "Output_Registered_label_path='C:/Users/Fakrul-IslamTUSHAR/Documents/MISAProject/MisaPreProcessing/Registered_label/'\n",
    "Output_Registered_transformation_path='C:/Users/Fakrul-IslamTUSHAR/Documents/MISAProject/MisaPreProcessing/Registered_Transformation/'"
   ]
  },
  {
   "cell_type": "code",
   "execution_count": 12,
   "metadata": {
    "hidden": true
   },
   "outputs": [
    {
     "data": {
      "image/png": "[encoded data removed]",
      "text/plain": [
       "<Figure size 432x288 with 1 Axes>"
      ]
     },
     "metadata": {},
     "output_type": "display_data"
    },
    {
     "name": "stdout",
     "output_type": "stream",
     "text": [
      "Final metric value: -0.5335141688363023\n",
      "Optimizer's stopping condition, GradientDescentOptimizerv4Template: Convergence checker passed at iteration 9.\n"
     ]
    },
    {
     "data": {
      "application/vnd.jupyter.widget-view+json": {
       "model_id": "2d49e3267df847f99c5aa0f920d56fb1",
       "version_major": 2,
       "version_minor": 0
      },
      "text/plain": [
       "interactive(children=(IntSlider(value=91, description='image_z', max=182), FloatSlider(value=0.5, description=…"
      ]
     },
     "metadata": {},
     "output_type": "display_data"
    },
    {
     "data": {
      "application/vnd.jupyter.widget-view+json": {
       "model_id": "1fba8c45bb544702ab8e09d4259ee492",
       "version_major": 2,
       "version_minor": 0
      },
      "text/plain": [
       "interactive(children=(IntSlider(value=91, description='image_z', max=182), FloatSlider(value=0.5, description=…"
      ]
     },
     "metadata": {},
     "output_type": "display_data"
    }
   ],
   "source": [
    "fixed_image = sitk.ReadImage('MNI152_T1_1mm_Brain.nii.gz', sitk.sitkFloat32)\n",
    "for im in mylist:\n",
    "    ###Getting Suvject MRI\n",
    "    img_fn = str(im[1])\n",
    "    label_fn=str(im[2])\n",
    "    img_name = img_fn.split('/')[-1].split('.')[0]\n",
    "    label_name = label_fn.split('/')[-1].split('.')[0]\n",
    "    print(img_name)\n",
    "    print(label_name)\n",
    "    \n",
    "    ########### Output Name & Folder ##########\n",
    "    Registered_imageName=img_name+'.nii.gz'\n",
    "    Registered_labelName=label_name+'.nii.gz'\n",
    "    Transformation_imageName=img_name+'.tfm'\n",
    "    \n",
    "    # =============================================================================\n",
    "    # Loading the data\n",
    "    # =============================================================================\n",
    "    moving_image =  sitk.ReadImage(img_fn, sitk.sitkFloat32)\n",
    "    interact(display_images, fixed_image_z=(0,fixed_image.GetSize()[2]-1), moving_image_z=(0,moving_image.GetSize()[2]-1), fixed_npa = fixed(sitk.GetArrayViewFromImage(fixed_image)), moving_npa=fixed(sitk.GetArrayViewFromImage(moving_image)));\n",
    "    # =============================================================================\n",
    "    # initial Alighment \n",
    "    # =============================================================================\n",
    "    initial_transform = sitk.CenteredTransformInitializer(fixed_image, \n",
    "                                                          moving_image, \n",
    "                                                          sitk.Euler3DTransform(), \n",
    "                                                          sitk.CenteredTransformInitializerFilter.GEOMETRY)\n",
    "\n",
    "    moving_resampled = sitk.Resample(moving_image, fixed_image, initial_transform, sitk.sitkNearestNeighbor, 0.0, moving_image.GetPixelID())\n",
    "\n",
    "    interact(display_images_with_alpha, image_z=(0,fixed_image.GetSize()[2]), alpha=(0.0,1.0,0.05), fixed = fixed(fixed_image), moving=fixed(moving_resampled));\n",
    "    # =============================================================================\n",
    "    # Registration\n",
    "    # =============================================================================\n",
    "    registration_method = sitk.ImageRegistrationMethod()\n",
    "\n",
    "    # Similarity metric settings.\n",
    "    registration_method.SetMetricAsMattesMutualInformation(numberOfHistogramBins=50)\n",
    "    registration_method.SetMetricSamplingStrategy(registration_method.RANDOM)\n",
    "    registration_method.SetMetricSamplingPercentage(0.01)\n",
    "\n",
    "    registration_method.SetInterpolator(sitk.sitkNearestNeighbor)\n",
    "\n",
    "    # Optimizer settings.\n",
    "    registration_method.SetOptimizerAsGradientDescent(learningRate=1.0, numberOfIterations=100, convergenceMinimumValue=1e-6, convergenceWindowSize=10)\n",
    "    registration_method.SetOptimizerScalesFromPhysicalShift()\n",
    "\n",
    "    # Setup for the multi-resolution framework.            \n",
    "    registration_method.SetShrinkFactorsPerLevel(shrinkFactors = [4,2,1])\n",
    "    registration_method.SetSmoothingSigmasPerLevel(smoothingSigmas=[2,1,0])\n",
    "    registration_method.SmoothingSigmasAreSpecifiedInPhysicalUnitsOn()\n",
    "\n",
    "    # Don't optimize in-place, we would possibly like to run this cell multiple times.\n",
    "    registration_method.SetInitialTransform(initial_transform, inPlace=False)\n",
    "\n",
    "    # Connect all of the observers so that we can perform plotting during registration.\n",
    "    registration_method.AddCommand(sitk.sitkStartEvent, start_plot)\n",
    "    registration_method.AddCommand(sitk.sitkEndEvent, end_plot)\n",
    "    registration_method.AddCommand(sitk.sitkMultiResolutionIterationEvent, update_multires_iterations) \n",
    "    registration_method.AddCommand(sitk.sitkIterationEvent, lambda: plot_values(registration_method))\n",
    "\n",
    "    final_transform = registration_method.Execute(sitk.Cast(fixed_image, sitk.sitkFloat32), \n",
    "                                                  sitk.Cast(moving_image, sitk.sitkFloat32))\n",
    "\n",
    "    # =============================================================================\n",
    "    # post processing Analysis\n",
    "    # =============================================================================\n",
    "    print('Final metric value: {0}'.format(registration_method.GetMetricValue()))\n",
    "    print('Optimizer\\'s stopping condition, {0}'.format(registration_method.GetOptimizerStopConditionDescription()))\n",
    "    #Visualize Expected Results\n",
    "\n",
    "    moving_resampled = sitk.Resample(moving_image, fixed_image, final_transform, sitk.sitkNearestNeighbor, 0.0, moving_image.GetPixelID())\n",
    "\n",
    "    interact(display_images_with_alpha, image_z=(0,fixed_image.GetSize()[2]), alpha=(0.0,1.0,0.05), fixed = fixed(fixed_image), moving=fixed(moving_resampled));\n",
    "\n",
    "    sitk.WriteImage(moving_resampled, os.path.join(Output_Registered_image_path, Registered_imageName))\n",
    "    sitk.WriteTransform(final_transform,os.path.join(Output_Registered_transformation_path,Transformation_imageName))\n",
    "    \n",
    "    # =============================================================================\n",
    "    # Label Registration With the Previous Transformation\n",
    "    # =============================================================================\n",
    "    ###Read The label\n",
    "    moving_label=sitk.ReadImage(label_fn, sitk.sitkFloat32)\n",
    "    ###Get the Transformation\n",
    "    transform=final_transform\n",
    "    \n",
    "    ###resampling the labels\n",
    "    moving_resampled_label = sitk.Resample(moving_label, fixed_image, transform, sitk.sitkNearestNeighbor, 0.0, moving_label.GetPixelID())\n",
    "\n",
    "    interact(display_images_with_alpha, image_z=(0,fixed_image.GetSize()[2]), alpha=(0.0,1.0,0.05), fixed = fixed(fixed_image), moving=fixed(moving_resampled_label));\n",
    "\n",
    "    sitk.WriteImage(moving_resampled_label, os.path.join(Output_Registered_label_path,Registered_labelName))"
   ]
  },
  {
   "cell_type": "markdown",
   "metadata": {
    "heading_collapsed": true
   },
   "source": [
    "# Dice Similarity Fuction "
   ]
  },
  {
   "cell_type": "code",
   "execution_count": 16,
   "metadata": {
    "hidden": true
   },
   "outputs": [],
   "source": [
    "def dice_similarity(Seg_img, GT_img,state):\n",
    "    \"\"\"   \n",
    "    Inputs:\n",
    "        Seg_img (numpy.ndarray): Segmented Image.\n",
    "        GT_img (numpy.ndarray): Ground Truth Image.\n",
    "        State: \"nifti\" if the images are nifti file\n",
    "               \"arr\"   if the images are an ndarray\n",
    "    output:\n",
    "        Dice Similarity Coefficient: dice_CSF, dice_GM, dice_WM.\"\"\"\n",
    "    \n",
    "    if (state==\"nifti\"):\n",
    "       segmented_data = Seg_img.get_data().copy()\n",
    "       groundtruth_data = GT_img.get_data().copy()\n",
    "    elif (state==\"arr\"):\n",
    "       segmented_data = Seg_img.copy()\n",
    "       groundtruth_data = GT_img.copy()\n",
    "    \n",
    "    #Calculte DICE\n",
    "    def dice_coefficient(SI,GT):\n",
    "        #   2 * TP / (FN + (2 * TP) + FP)\n",
    "        intersection = np.logical_and(SI, GT)\n",
    "        return 2. * intersection.sum() / (SI.sum() + GT.sum())\n",
    "    \n",
    "    #Dice  for CSF\n",
    "    Seg_CSF = (segmented_data == 1) * 1\n",
    "    GT_CSF = (groundtruth_data == 1) * 1\n",
    "    dice_CSF = dice_coefficient(Seg_CSF, GT_CSF)\n",
    "    #Dice  for GM\n",
    "    Seg_GM = (segmented_data == 2) * 1\n",
    "    GT_GM = (groundtruth_data == 2) * 1\n",
    "    dice_GM = dice_coefficient(Seg_GM, GT_GM)\n",
    "    #Dice  for WM\n",
    "    Seg_WM = (segmented_data == 3) * 1\n",
    "    GT_WM = (groundtruth_data == 3) * 1\n",
    "    dice_WM = dice_coefficient(Seg_WM, GT_WM)\n",
    "    \n",
    "    return dice_CSF, dice_GM, dice_WM"
   ]
  },
  {
   "cell_type": "markdown",
   "metadata": {
    "heading_collapsed": true
   },
   "source": [
    "# Cheaking inverse registration will work or not"
   ]
  },
  {
   "cell_type": "code",
   "execution_count": 13,
   "metadata": {
    "hidden": true
   },
   "outputs": [
    {
     "name": "stdout",
     "output_type": "stream",
     "text": [
      "['IBSR_01_seg.nii.gz', 'IBSR_03_seg.nii.gz', 'IBSR_04_seg.nii.gz', 'IBSR_05_seg.nii.gz', 'IBSR_06_seg.nii.gz', 'IBSR_07_seg.nii.gz', 'IBSR_08_seg.nii.gz', 'IBSR_09_seg.nii.gz', 'IBSR_11_seg.nii.gz', 'IBSR_12_seg.nii.gz', 'IBSR_13_seg.nii.gz', 'IBSR_14_seg.nii.gz', 'IBSR_16_seg.nii.gz', 'IBSR_17_seg.nii.gz', 'IBSR_18_seg.nii.gz']\n"
     ]
    }
   ],
   "source": [
    "My_Registered_label_list=os.listdir(Output_Registered_label_path)\n",
    "print(My_Registered_label_list)"
   ]
  },
  {
   "cell_type": "code",
   "execution_count": 14,
   "metadata": {
    "hidden": true
   },
   "outputs": [
    {
     "name": "stdout",
     "output_type": "stream",
     "text": [
      "['IBSR_01.tfm', 'IBSR_03.tfm', 'IBSR_04.tfm', 'IBSR_05.tfm', 'IBSR_06.tfm', 'IBSR_07.tfm', 'IBSR_08.tfm', 'IBSR_09.tfm', 'IBSR_11.tfm', 'IBSR_12.tfm', 'IBSR_13.tfm', 'IBSR_14.tfm', 'IBSR_16.tfm', 'IBSR_17.tfm', 'IBSR_18.tfm']\n"
     ]
    }
   ],
   "source": [
    "My_Registered_Trans_File=os.listdir(Output_Registered_transformation_path)\n",
    "print(My_Registered_Trans_File)"
   ]
  },
  {
   "cell_type": "code",
   "execution_count": 24,
   "metadata": {
    "hidden": true,
    "scrolled": true
   },
   "outputs": [
    {
     "name": "stdout",
     "output_type": "stream",
     "text": [
      "#############Loading Results If we Do inverse Registration############### \n",
      "data: IBSR_01\n",
      "CSF DICE = 0.9825621309899767 GM DICE = 0.9912496715782244 WM DICE = 0.9880310024988352\n",
      "############################ \n",
      "data: IBSR_03\n",
      "CSF DICE = 0.9697968972494941 GM DICE = 0.991009179006726 WM DICE = 0.9870380013130924\n",
      "############################ \n",
      "data: IBSR_04\n",
      "CSF DICE = 0.9775035832242787 GM DICE = 0.991514231804458 WM DICE = 0.987651804670913\n",
      "############################ \n",
      "data: IBSR_05\n",
      "CSF DICE = 0.9825619414371867 GM DICE = 0.9900341642668938 WM DICE = 0.9893874286823152\n",
      "############################ \n",
      "data: IBSR_06\n",
      "CSF DICE = 0.9862122788761707 GM DICE = 0.9866776751765345 WM DICE = 0.9871989311140422\n",
      "############################ \n",
      "data: IBSR_07\n",
      "CSF DICE = 0.998586537992884 GM DICE = 0.9994064054436964 WM DICE = 0.9993687508790062\n",
      "############################ \n",
      "data: IBSR_08\n",
      "CSF DICE = 0.9986510373057959 GM DICE = 0.9985595970632075 WM DICE = 0.9984952139443508\n",
      "############################ \n",
      "data: IBSR_09\n",
      "CSF DICE = 0.9968720448097766 GM DICE = 0.9984399123036154 WM DICE = 0.9983404133068171\n",
      "############################ \n",
      "data: IBSR_16\n",
      "CSF DICE = 0.9507329161241548 GM DICE = 0.9824083459155735 WM DICE = 0.9735339391230945\n",
      "############################ \n",
      "data: IBSR_18\n",
      "CSF DICE = 0.9591194295136732 GM DICE = 0.9817603190815379 WM DICE = 0.9746477068175066\n",
      "############################ \n",
      "data: IBSR_11\n",
      "CSF DICE = 0.997624703087886 GM DICE = 0.9985968288140679 WM DICE = 0.9986385574634562\n",
      "############################ \n",
      "data: IBSR_12\n",
      "CSF DICE = 0.9964391691394658 GM DICE = 0.9980941459737718 WM DICE = 0.9977821939864278\n",
      "############################ \n",
      "data: IBSR_13\n",
      "CSF DICE = 0.9747929583201339 GM DICE = 0.9918151106915374 WM DICE = 0.9866391946408345\n",
      "############################ \n",
      "data: IBSR_14\n",
      "CSF DICE = 0.978958385967445 GM DICE = 0.9904732572623514 WM DICE = 0.9878724958249686\n",
      "############################ \n",
      "data: IBSR_17\n",
      "CSF DICE = 0.9666451820818562 GM DICE = 0.9812091136119974 WM DICE = 0.9711705490642771\n",
      "############################ \n"
     ]
    }
   ],
   "source": [
    "print(\"#############Loading Results If we Do inverse Registration############### \")\n",
    "\n",
    "for im in mylist:\n",
    "    ###Getting Suvject MRI\n",
    "    img_fn = str(im[1])\n",
    "    label_fn=str(im[2])\n",
    "    img_name = img_fn.split('/')[-1].split('.')[0]\n",
    "    label_name = label_fn.split('/')[-1].split('.')[0]\n",
    "    \n",
    "    ##The Original Spaced Image\n",
    "    label_Original_fixed=sitk.ReadImage(label_fn, sitk.sitkFloat32)\n",
    "    ###REgisted MNI label\n",
    "    label_Registered_moving=sitk.ReadImage(Output_Registered_label_path+label_name+'.nii.gz', sitk.sitkFloat32)\n",
    "    #print(Output_Registered_label_path+label_name+'.nii.gz')\n",
    "    \n",
    "    ######Load the Transformation\n",
    "    initial_transform_for_InterTransformation=sitk.ReadTransform(Output_Registered_transformation_path+img_name+'.tfm')\n",
    "    inverse_Transformation=initial_transform_for_InterTransformation.GetInverse()\n",
    "    \n",
    "    Original_resampled_label = sitk.Resample(label_Registered_moving, label_Original_fixed, inverse_Transformation, sitk.sitkNearestNeighbor, 0.0, label_Registered_moving.GetPixelID())\n",
    "    \n",
    "    np_img3 = sitk.GetArrayFromImage(Original_resampled_label)\n",
    "    np_img4 = sitk.GetArrayFromImage(label_Original_fixed)\n",
    "    \n",
    "    \n",
    "    print(\"data:\",img_name)\n",
    "    dice_CSF, dice_GM, dice_WM = dice_similarity(np_img3,np_img4,\"arr\")\n",
    "    print(\"CSF DICE = {}\".format(dice_CSF), \"GM DICE = {}\".format(dice_GM), \"WM DICE = {}\".format(dice_WM))\n",
    "    print(\"############################ \")\n",
    "    \n",
    "    "
   ]
  },
  {
   "cell_type": "markdown",
   "metadata": {
    "heading_collapsed": true
   },
   "source": [
    "# Creating the excel File of the Registered Training and Validation Path."
   ]
  },
  {
   "cell_type": "code",
   "execution_count": 28,
   "metadata": {
    "hidden": true
   },
   "outputs": [
    {
     "name": "stdout",
     "output_type": "stream",
     "text": [
      "C:/Users/Fakrul-IslamTUSHAR/Documents/MISAProject/MisaPreProcessing/Registered_data/IBSR_01.nii.gz\n",
      "C:/Users/Fakrul-IslamTUSHAR/Documents/MISAProject/MisaPreProcessing/Registered_label/IBSR_01_seg.nii.gz\n",
      "C:/Users/Fakrul-IslamTUSHAR/Documents/MISAProject/MisaPreProcessing/Registered_Transformation/IBSR_01.tfm\n",
      "###############################\n",
      "C:/Users/Fakrul-IslamTUSHAR/Documents/MISAProject/MisaPreProcessing/Registered_data/IBSR_03.nii.gz\n",
      "C:/Users/Fakrul-IslamTUSHAR/Documents/MISAProject/MisaPreProcessing/Registered_label/IBSR_03_seg.nii.gz\n",
      "C:/Users/Fakrul-IslamTUSHAR/Documents/MISAProject/MisaPreProcessing/Registered_Transformation/IBSR_03.tfm\n",
      "###############################\n",
      "C:/Users/Fakrul-IslamTUSHAR/Documents/MISAProject/MisaPreProcessing/Registered_data/IBSR_04.nii.gz\n",
      "C:/Users/Fakrul-IslamTUSHAR/Documents/MISAProject/MisaPreProcessing/Registered_label/IBSR_04_seg.nii.gz\n",
      "C:/Users/Fakrul-IslamTUSHAR/Documents/MISAProject/MisaPreProcessing/Registered_Transformation/IBSR_04.tfm\n",
      "###############################\n",
      "C:/Users/Fakrul-IslamTUSHAR/Documents/MISAProject/MisaPreProcessing/Registered_data/IBSR_05.nii.gz\n",
      "C:/Users/Fakrul-IslamTUSHAR/Documents/MISAProject/MisaPreProcessing/Registered_label/IBSR_05_seg.nii.gz\n",
      "C:/Users/Fakrul-IslamTUSHAR/Documents/MISAProject/MisaPreProcessing/Registered_Transformation/IBSR_05.tfm\n",
      "###############################\n",
      "C:/Users/Fakrul-IslamTUSHAR/Documents/MISAProject/MisaPreProcessing/Registered_data/IBSR_06.nii.gz\n",
      "C:/Users/Fakrul-IslamTUSHAR/Documents/MISAProject/MisaPreProcessing/Registered_label/IBSR_06_seg.nii.gz\n",
      "C:/Users/Fakrul-IslamTUSHAR/Documents/MISAProject/MisaPreProcessing/Registered_Transformation/IBSR_06.tfm\n",
      "###############################\n",
      "C:/Users/Fakrul-IslamTUSHAR/Documents/MISAProject/MisaPreProcessing/Registered_data/IBSR_07.nii.gz\n",
      "C:/Users/Fakrul-IslamTUSHAR/Documents/MISAProject/MisaPreProcessing/Registered_label/IBSR_07_seg.nii.gz\n",
      "C:/Users/Fakrul-IslamTUSHAR/Documents/MISAProject/MisaPreProcessing/Registered_Transformation/IBSR_07.tfm\n",
      "###############################\n",
      "C:/Users/Fakrul-IslamTUSHAR/Documents/MISAProject/MisaPreProcessing/Registered_data/IBSR_08.nii.gz\n",
      "C:/Users/Fakrul-IslamTUSHAR/Documents/MISAProject/MisaPreProcessing/Registered_label/IBSR_08_seg.nii.gz\n",
      "C:/Users/Fakrul-IslamTUSHAR/Documents/MISAProject/MisaPreProcessing/Registered_Transformation/IBSR_08.tfm\n",
      "###############################\n",
      "C:/Users/Fakrul-IslamTUSHAR/Documents/MISAProject/MisaPreProcessing/Registered_data/IBSR_09.nii.gz\n",
      "C:/Users/Fakrul-IslamTUSHAR/Documents/MISAProject/MisaPreProcessing/Registered_label/IBSR_09_seg.nii.gz\n",
      "C:/Users/Fakrul-IslamTUSHAR/Documents/MISAProject/MisaPreProcessing/Registered_Transformation/IBSR_09.tfm\n",
      "###############################\n",
      "C:/Users/Fakrul-IslamTUSHAR/Documents/MISAProject/MisaPreProcessing/Registered_data/IBSR_16.nii.gz\n",
      "C:/Users/Fakrul-IslamTUSHAR/Documents/MISAProject/MisaPreProcessing/Registered_label/IBSR_16_seg.nii.gz\n",
      "C:/Users/Fakrul-IslamTUSHAR/Documents/MISAProject/MisaPreProcessing/Registered_Transformation/IBSR_16.tfm\n",
      "###############################\n",
      "C:/Users/Fakrul-IslamTUSHAR/Documents/MISAProject/MisaPreProcessing/Registered_data/IBSR_18.nii.gz\n",
      "C:/Users/Fakrul-IslamTUSHAR/Documents/MISAProject/MisaPreProcessing/Registered_label/IBSR_18_seg.nii.gz\n",
      "C:/Users/Fakrul-IslamTUSHAR/Documents/MISAProject/MisaPreProcessing/Registered_Transformation/IBSR_18.tfm\n",
      "###############################\n",
      "C:/Users/Fakrul-IslamTUSHAR/Documents/MISAProject/MisaPreProcessing/Registered_data/IBSR_11.nii.gz\n",
      "C:/Users/Fakrul-IslamTUSHAR/Documents/MISAProject/MisaPreProcessing/Registered_label/IBSR_11_seg.nii.gz\n",
      "C:/Users/Fakrul-IslamTUSHAR/Documents/MISAProject/MisaPreProcessing/Registered_Transformation/IBSR_11.tfm\n",
      "###############################\n",
      "C:/Users/Fakrul-IslamTUSHAR/Documents/MISAProject/MisaPreProcessing/Registered_data/IBSR_12.nii.gz\n",
      "C:/Users/Fakrul-IslamTUSHAR/Documents/MISAProject/MisaPreProcessing/Registered_label/IBSR_12_seg.nii.gz\n",
      "C:/Users/Fakrul-IslamTUSHAR/Documents/MISAProject/MisaPreProcessing/Registered_Transformation/IBSR_12.tfm\n",
      "###############################\n",
      "C:/Users/Fakrul-IslamTUSHAR/Documents/MISAProject/MisaPreProcessing/Registered_data/IBSR_13.nii.gz\n",
      "C:/Users/Fakrul-IslamTUSHAR/Documents/MISAProject/MisaPreProcessing/Registered_label/IBSR_13_seg.nii.gz\n",
      "C:/Users/Fakrul-IslamTUSHAR/Documents/MISAProject/MisaPreProcessing/Registered_Transformation/IBSR_13.tfm\n",
      "###############################\n",
      "C:/Users/Fakrul-IslamTUSHAR/Documents/MISAProject/MisaPreProcessing/Registered_data/IBSR_14.nii.gz\n",
      "C:/Users/Fakrul-IslamTUSHAR/Documents/MISAProject/MisaPreProcessing/Registered_label/IBSR_14_seg.nii.gz\n",
      "C:/Users/Fakrul-IslamTUSHAR/Documents/MISAProject/MisaPreProcessing/Registered_Transformation/IBSR_14.tfm\n",
      "###############################\n",
      "C:/Users/Fakrul-IslamTUSHAR/Documents/MISAProject/MisaPreProcessing/Registered_data/IBSR_17.nii.gz\n",
      "C:/Users/Fakrul-IslamTUSHAR/Documents/MISAProject/MisaPreProcessing/Registered_label/IBSR_17_seg.nii.gz\n",
      "C:/Users/Fakrul-IslamTUSHAR/Documents/MISAProject/MisaPreProcessing/Registered_Transformation/IBSR_17.tfm\n",
      "###############################\n"
     ]
    }
   ],
   "source": [
    "id_list=[]\n",
    "sub_t1=[]\n",
    "label_list=[]\n",
    "tfm_list=[]\n",
    "\n",
    "\n",
    "for im in mylist:\n",
    "    ###Getting Suvject MRI\n",
    "    img_fn = str(im[1])\n",
    "    label_fn=str(im[2])\n",
    "    img_name = img_fn.split('/')[-1].split('.')[0]\n",
    "    id_list.append(img_name)\n",
    "    label_name = label_fn.split('/')[-1].split('.')[0]\n",
    "    \n",
    "    ######Getting Path\n",
    "    reg_img_path=Output_Registered_image_path+img_name+'.nii.gz'\n",
    "    sub_t1.append(reg_img_path)\n",
    "    \n",
    "    reg_label_path=Output_Registered_label_path+label_name+'.nii.gz'\n",
    "    label_list.append(reg_label_path)\n",
    "    \n",
    "    trans_tfm_file_path=Output_Registered_transformation_path+img_name+'.tfm'\n",
    "    tfm_list.append(trans_tfm_file_path)\n",
    "    \n",
    "    \n",
    "    \n",
    "    \n",
    "    print(reg_img_path)\n",
    "    print(reg_label_path)\n",
    "    print(trans_tfm_file_path)\n",
    "    print(\"###############################\")\n",
    "\n",
    "Inf0_data=pd.DataFrame(list(zip(id_list, sub_t1, label_list,tfm_list)),\n",
    "columns=['id','subj_folder','subj_label','registartion_tmf'])\n",
    "Inf0_data.to_csv(\"MISAPreorocessingReg_info.csv\", encoding='utf-8', index=False)    "
   ]
  },
  {
   "cell_type": "markdown",
   "metadata": {
    "heading_collapsed": true
   },
   "source": [
    "# Registartion For Test Imaes"
   ]
  },
  {
   "cell_type": "code",
   "execution_count": 29,
   "metadata": {
    "hidden": true
   },
   "outputs": [
    {
     "name": "stdout",
     "output_type": "stream",
     "text": [
      "['IBSR_02.nii.gz', 'IBSR_10.nii.gz', 'IBSR_15.nii.gz']\n"
     ]
    }
   ],
   "source": [
    "Test_data_raw_path=\"C:/Users/Fakrul-IslamTUSHAR/Documents/MISAProject/MisaPreProcessing/Test_Data_Raw/\"\n",
    "Test_data_list=os.listdir(Test_data_raw_path)\n",
    "print(Test_data_list)"
   ]
  },
  {
   "cell_type": "code",
   "execution_count": 31,
   "metadata": {
    "hidden": true
   },
   "outputs": [
    {
     "name": "stdout",
     "output_type": "stream",
     "text": [
      "C:/Users/Fakrul-IslamTUSHAR/Documents/MISAProject/MisaPreProcessing/Test_Data_Raw/IBSR_02.nii.gz\n"
     ]
    }
   ],
   "source": [
    "print(Test_data_raw_path+Test_data_list[0])"
   ]
  },
  {
   "cell_type": "code",
   "execution_count": 34,
   "metadata": {
    "hidden": true,
    "scrolled": true
   },
   "outputs": [
    {
     "data": {
      "image/png": "[encoded data removed]",
      "text/plain": [
       "<Figure size 432x288 with 1 Axes>"
      ]
     },
     "metadata": {},
     "output_type": "display_data"
    },
    {
     "name": "stdout",
     "output_type": "stream",
     "text": [
      "Final metric value: -0.3417778050822575\n",
      "Optimizer's stopping condition, GradientDescentOptimizerv4Template: Convergence checker passed at iteration 9.\n"
     ]
    },
    {
     "data": {
      "application/vnd.jupyter.widget-view+json": {
       "model_id": "0222ebe7be7747e8a8a6dfbbf52fde65",
       "version_major": 2,
       "version_minor": 0
      },
      "text/plain": [
       "interactive(children=(IntSlider(value=91, description='image_z', max=182), FloatSlider(value=0.5, description=…"
      ]
     },
     "metadata": {},
     "output_type": "display_data"
    }
   ],
   "source": [
    "REegistered_Test_output_path=\"C:/Users/Fakrul-IslamTUSHAR/Documents/MISAProject/MisaPreProcessing/Registered_Testdata/\"\n",
    "Registered_Testdata_tmf_file=\"C:/Users/Fakrul-IslamTUSHAR/Documents/MISAProject/MisaPreProcessing/Registered_Testdata_tmf_file/\"\n",
    "\n",
    "fixed_image = sitk.ReadImage('MNI152_T1_1mm_Brain.nii.gz', sitk.sitkFloat32)\n",
    "\n",
    "for im in range(0,3):\n",
    "    \n",
    "    complete_test_img_path=Test_data_raw_path+Test_data_list[im]\n",
    "    \n",
    "    ###Getting Suvject MRI\n",
    "    img_fn = str(complete_test_img_path)\n",
    "    img_name = img_fn.split('/')[-1].split('.')[0]\n",
    "    \n",
    "    print(img_name)\n",
    "    \n",
    "    ########### Output Name & Folder ##########\n",
    "    Registered_imageName=img_name+'.nii.gz'\n",
    "    Transformation_imageName=img_name+'.tfm'\n",
    "    \n",
    "    # =============================================================================\n",
    "    # Loading the data\n",
    "    # =============================================================================\n",
    "    moving_image =  sitk.ReadImage(img_fn, sitk.sitkFloat32)\n",
    "    interact(display_images, fixed_image_z=(0,fixed_image.GetSize()[2]-1), moving_image_z=(0,moving_image.GetSize()[2]-1), fixed_npa = fixed(sitk.GetArrayViewFromImage(fixed_image)), moving_npa=fixed(sitk.GetArrayViewFromImage(moving_image)));\n",
    "    # =============================================================================\n",
    "    # initial Alighment \n",
    "    # =============================================================================\n",
    "    initial_transform = sitk.CenteredTransformInitializer(fixed_image, \n",
    "                                                          moving_image, \n",
    "                                                          sitk.Euler3DTransform(), \n",
    "                                                          sitk.CenteredTransformInitializerFilter.GEOMETRY)\n",
    "\n",
    "    moving_resampled = sitk.Resample(moving_image, fixed_image, initial_transform, sitk.sitkNearestNeighbor, 0.0, moving_image.GetPixelID())\n",
    "\n",
    "    interact(display_images_with_alpha, image_z=(0,fixed_image.GetSize()[2]), alpha=(0.0,1.0,0.05), fixed = fixed(fixed_image), moving=fixed(moving_resampled));\n",
    "    # =============================================================================\n",
    "    # Registration\n",
    "    # =============================================================================\n",
    "    registration_method = sitk.ImageRegistrationMethod()\n",
    "\n",
    "    # Similarity metric settings.\n",
    "    registration_method.SetMetricAsMattesMutualInformation(numberOfHistogramBins=50)\n",
    "    registration_method.SetMetricSamplingStrategy(registration_method.RANDOM)\n",
    "    registration_method.SetMetricSamplingPercentage(0.01)\n",
    "\n",
    "    registration_method.SetInterpolator(sitk.sitkNearestNeighbor)\n",
    "\n",
    "    # Optimizer settings.\n",
    "    registration_method.SetOptimizerAsGradientDescent(learningRate=1.0, numberOfIterations=100, convergenceMinimumValue=1e-6, convergenceWindowSize=10)\n",
    "    registration_method.SetOptimizerScalesFromPhysicalShift()\n",
    "\n",
    "    # Setup for the multi-resolution framework.            \n",
    "    registration_method.SetShrinkFactorsPerLevel(shrinkFactors = [4,2,1])\n",
    "    registration_method.SetSmoothingSigmasPerLevel(smoothingSigmas=[2,1,0])\n",
    "    registration_method.SmoothingSigmasAreSpecifiedInPhysicalUnitsOn()\n",
    "\n",
    "    # Don't optimize in-place, we would possibly like to run this cell multiple times.\n",
    "    registration_method.SetInitialTransform(initial_transform, inPlace=False)\n",
    "\n",
    "    # Connect all of the observers so that we can perform plotting during registration.\n",
    "    registration_method.AddCommand(sitk.sitkStartEvent, start_plot)\n",
    "    registration_method.AddCommand(sitk.sitkEndEvent, end_plot)\n",
    "    registration_method.AddCommand(sitk.sitkMultiResolutionIterationEvent, update_multires_iterations) \n",
    "    registration_method.AddCommand(sitk.sitkIterationEvent, lambda: plot_values(registration_method))\n",
    "\n",
    "    final_transform = registration_method.Execute(sitk.Cast(fixed_image, sitk.sitkFloat32), \n",
    "                                                  sitk.Cast(moving_image, sitk.sitkFloat32))\n",
    "\n",
    "    # =============================================================================\n",
    "    # post processing Analysis\n",
    "    # =============================================================================\n",
    "    print('Final metric value: {0}'.format(registration_method.GetMetricValue()))\n",
    "    print('Optimizer\\'s stopping condition, {0}'.format(registration_method.GetOptimizerStopConditionDescription()))\n",
    "    #Visualize Expected Results\n",
    "\n",
    "    moving_resampled = sitk.Resample(moving_image, fixed_image, final_transform, sitk.sitkNearestNeighbor, 0.0, moving_image.GetPixelID())\n",
    "\n",
    "    interact(display_images_with_alpha, image_z=(0,fixed_image.GetSize()[2]), alpha=(0.0,1.0,0.05), fixed = fixed(fixed_image), moving=fixed(moving_resampled));\n",
    "\n",
    "    sitk.WriteImage(moving_resampled, os.path.join(REegistered_Test_output_path, Registered_imageName))\n",
    "    sitk.WriteTransform(final_transform,os.path.join(Registered_Testdata_tmf_file,Transformation_imageName))"
   ]
  },
  {
   "cell_type": "markdown",
   "metadata": {
    "heading_collapsed": true
   },
   "source": [
    "# Creating A Excel File For Registered Test Data"
   ]
  },
  {
   "cell_type": "code",
   "execution_count": 35,
   "metadata": {
    "hidden": true
   },
   "outputs": [
    {
     "name": "stdout",
     "output_type": "stream",
     "text": [
      "IBSR_02\n",
      "C:/Users/Fakrul-IslamTUSHAR/Documents/MISAProject/MisaPreProcessing/Registered_Testdata/IBSR_02.nii.gz\n",
      "C:/Users/Fakrul-IslamTUSHAR/Documents/MISAProject/MisaPreProcessing/Registered_Testdata_tmf_file/IBSR_02.tfm\n",
      "###############################\n",
      "IBSR_10\n",
      "C:/Users/Fakrul-IslamTUSHAR/Documents/MISAProject/MisaPreProcessing/Registered_Testdata/IBSR_10.nii.gz\n",
      "C:/Users/Fakrul-IslamTUSHAR/Documents/MISAProject/MisaPreProcessing/Registered_Testdata_tmf_file/IBSR_10.tfm\n",
      "###############################\n",
      "IBSR_15\n",
      "C:/Users/Fakrul-IslamTUSHAR/Documents/MISAProject/MisaPreProcessing/Registered_Testdata/IBSR_15.nii.gz\n",
      "C:/Users/Fakrul-IslamTUSHAR/Documents/MISAProject/MisaPreProcessing/Registered_Testdata_tmf_file/IBSR_15.tfm\n",
      "###############################\n"
     ]
    }
   ],
   "source": [
    "test_id_list=[]\n",
    "test_sub_t1=[]\n",
    "test_tfm_list=[]\n",
    "\n",
    "\n",
    "REegistered_Test_output_path=\"C:/Users/Fakrul-IslamTUSHAR/Documents/MISAProject/MisaPreProcessing/Registered_Testdata/\"\n",
    "Registered_Testdata_tmf_file=\"C:/Users/Fakrul-IslamTUSHAR/Documents/MISAProject/MisaPreProcessing/Registered_Testdata_tmf_file/\"\n",
    "\n",
    "fixed_image = sitk.ReadImage('MNI152_T1_1mm_Brain.nii.gz', sitk.sitkFloat32)\n",
    "\n",
    "for im in range(0,3):\n",
    "    \n",
    "    complete_test_img_path=Test_data_raw_path+Test_data_list[im]\n",
    "    \n",
    "    ###Getting Suvject MRI\n",
    "    img_fn = str(complete_test_img_path)\n",
    "    img_name = img_fn.split('/')[-1].split('.')[0]\n",
    "    print(img_name)\n",
    "    test_id_list.append(img_name)\n",
    "    \n",
    "\n",
    "    ######Getting Path\n",
    "    reg_img_path=REegistered_Test_output_path+img_name+'.nii.gz'\n",
    "    test_sub_t1.append(reg_img_path)\n",
    "    \n",
    "    \n",
    "    trans_tfm_file_path=Registered_Testdata_tmf_file+img_name+'.tfm'\n",
    "    test_tfm_list.append(trans_tfm_file_path)\n",
    "    \n",
    "    \n",
    "    \n",
    "    \n",
    "    print(reg_img_path)\n",
    "    print(trans_tfm_file_path)\n",
    "    print(\"###############################\")\n",
    "\n",
    "Inf0_data=pd.DataFrame(list(zip(test_id_list, test_sub_t1, test_tfm_list)),\n",
    "columns=['id','subj_folder','registartion_tmf'])\n",
    "Inf0_data.to_csv(\"MISAPreorocessingTestReg_info.csv\", encoding='utf-8', index=False)"
   ]
  },
  {
   "cell_type": "code",
   "execution_count": null,
   "metadata": {
    "hidden": true
   },
   "outputs": [],
   "source": []
  }
 ],
 "metadata": {
  "kernelspec": {
   "display_name": "Python 3",
   "language": "python",
   "name": "python3"
  },
  "language_info": {
   "codemirror_mode": {
    "name": "ipython",
    "version": 3
   },
   "file_extension": ".py",
   "mimetype": "text/x-python",
   "name": "python",
   "nbconvert_exporter": "python",
   "pygments_lexer": "ipython3",
   "version": "3.6.7"
  },
  "toc": {
   "base_numbering": 1,
   "nav_menu": {},
   "number_sections": true,
   "sideBar": true,
   "skip_h1_title": false,
   "title_cell": "Table of Contents",
   "title_sidebar": "Contents",
   "toc_cell": true,
   "toc_position": {},
   "toc_section_display": true,
   "toc_window_display": true
  },
  "varInspector": {
   "cols": {
    "lenName": 16,
    "lenType": 16,
    "lenVar": 40
   },
   "kernels_config": {
    "python": {
     "delete_cmd_postfix": "",
     "delete_cmd_prefix": "del ",
     "library": "var_list.py",
     "varRefreshCmd": "print(var_dic_list())"
    },
    "r": {
     "delete_cmd_postfix": ") ",
     "delete_cmd_prefix": "rm(",
     "library": "var_list.r",
     "varRefreshCmd": "cat(var_dic_list()) "
    }
   },
   "types_to_exclude": [
    "module",
    "function",
    "builtin_function_or_method",
    "instance",
    "_Feature"
   ],
   "window_display": false
  }
 },
 "nbformat": 4,
 "nbformat_minor": 2
}
